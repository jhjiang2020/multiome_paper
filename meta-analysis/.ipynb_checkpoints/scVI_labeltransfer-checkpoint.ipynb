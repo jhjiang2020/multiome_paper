{
 "cells": [
  {
   "cell_type": "markdown",
   "id": "d82e9732-429f-4a1c-b4ab-3d56e4daeffb",
   "metadata": {},
   "source": [
    "# Deep-learning based label transfer using scvi-tools"
   ]
  },
  {
   "cell_type": "code",
   "execution_count": 10,
   "id": "6321e4f5-1e19-4c70-aec9-5a2df873ad1b",
   "metadata": {},
   "outputs": [
    {
     "name": "stdout",
     "output_type": "stream",
     "text": [
      "env: PYTORCH_ENABLE_MPS_FALLBACK=1\n"
     ]
    }
   ],
   "source": [
    "%env PYTORCH_ENABLE_MPS_FALLBACK=1"
   ]
  },
  {
   "cell_type": "code",
   "execution_count": 2,
   "id": "f874363f-6a05-4ea3-be7f-0b2fbf6bae64",
   "metadata": {},
   "outputs": [
    {
     "name": "stderr",
     "output_type": "stream",
     "text": [
      "/Users/jhjiang/miniconda3/envs/scVI-arm64/lib/python3.9/site-packages/scvi/_settings.py:63: UserWarning: Since v1.0.0, scvi-tools no longer uses a random seed by default. Run `scvi.settings.seed = 0` to reproduce results from previous versions.\n",
      "  self.seed = seed\n",
      "/Users/jhjiang/miniconda3/envs/scVI-arm64/lib/python3.9/site-packages/scvi/_settings.py:70: UserWarning: Setting `dl_pin_memory_gpu_training` is deprecated in v1.0 and will be removed in v1.1. Please pass in `pin_memory` to the data loaders instead.\n",
      "  self.dl_pin_memory_gpu_training = (\n",
      "/Users/jhjiang/miniconda3/envs/scVI-arm64/lib/python3.9/site-packages/tqdm/auto.py:21: TqdmWarning: IProgress not found. Please update jupyter and ipywidgets. See https://ipywidgets.readthedocs.io/en/stable/user_install.html\n",
      "  from .autonotebook import tqdm as notebook_tqdm\n"
     ]
    }
   ],
   "source": [
    "import numpy as np\n",
    "import pynndescent\n",
    "import torch\n",
    "import torch.nn as nn\n",
    "import pandas as pd\n",
    "\n",
    "import matplotlib.pyplot as plt\n",
    "#from plotnine import *\n",
    "\n",
    "import scvi\n",
    "import scanpy as sc\n",
    "import anndata"
   ]
  },
  {
   "cell_type": "code",
   "execution_count": 3,
   "id": "d3105649-9533-4c18-8367-45f593ffeb02",
   "metadata": {},
   "outputs": [],
   "source": [
    "DATA_DIR = \"/Users/jhjiang/Oxford/Results/multiome/scVI/data/\"\n",
    "RES_DIR = \"/Users/jhjiang/Oxford/Results/multiome/scVI/results/\""
   ]
  },
  {
   "cell_type": "markdown",
   "id": "8cf7132a-862a-46be-a521-fcf3638fb234",
   "metadata": {},
   "source": [
    "## Train the scvi model with Seurat's CCA generated labels"
   ]
  },
  {
   "cell_type": "code",
   "execution_count": 15,
   "id": "0af92708-9919-4281-8ce2-9b2e0a777909",
   "metadata": {},
   "outputs": [
    {
     "data": {
      "text/plain": [
       "AnnData object with n_obs × n_vars = 22349 × 42275\n",
       "    obs: 'orig.ident', 'nCount_RNA', 'nFeature_RNA', 'batch', 'donor', 'patient', 'percent.mt', 'RNA_snn_res.0.1', 'seurat_clusters', 'RNA_clusters', 'cell_type', 'S.Score', 'G2M.Score', 'Phase', 'old.ident', 'CC.Difference', 'percent.rps', 'percent.rpl', 'nCount_SCT', 'nFeature_SCT', 'integrated_snn_res.0.3', 'subtype'\n",
       "    obsm: 'umap'\n",
       "    layers: 'counts'"
      ]
     },
     "execution_count": 15,
     "metadata": {},
     "output_type": "execute_result"
    }
   ],
   "source": [
    "# load the plaque macrophage atlas as the reference\n",
    "ref = sc.read_h5ad(DATA_DIR + \"MP_Plaque.Oct2023.h5ad\")\n",
    "ref.layers[\"counts\"] = ref.X.copy()\n",
    "ref"
   ]
  },
  {
   "cell_type": "code",
   "execution_count": 16,
   "id": "93a76f30",
   "metadata": {},
   "outputs": [
    {
     "name": "stderr",
     "output_type": "stream",
     "text": [
      "/Users/jhjiang/miniconda3/envs/scVI-arm64/lib/python3.9/site-packages/scanpy/preprocessing/_highly_variable_genes.py:215: FutureWarning: The default of observed=False is deprecated and will be changed to True in a future version of pandas. Pass observed=False to retain current behavior or observed=True to adopt the future default and silence this warning.\n",
      "  disp_grouped = df.groupby('mean_bin')['dispersions']\n",
      "/Users/jhjiang/miniconda3/envs/scVI-arm64/lib/python3.9/site-packages/scanpy/preprocessing/_highly_variable_genes.py:215: FutureWarning: The default of observed=False is deprecated and will be changed to True in a future version of pandas. Pass observed=False to retain current behavior or observed=True to adopt the future default and silence this warning.\n",
      "  disp_grouped = df.groupby('mean_bin')['dispersions']\n"
     ]
    },
    {
     "name": "stdout",
     "output_type": "stream",
     "text": [
      "Epoch 1/358:   0%|                                                                                                      | 0/358 [02:29<?, ?it/s]"
     ]
    },
    {
     "name": "stderr",
     "output_type": "stream",
     "text": [
      "/Users/jhjiang/miniconda3/envs/scVI-arm64/lib/python3.9/site-packages/scanpy/preprocessing/_highly_variable_genes.py:215: FutureWarning: The default of observed=False is deprecated and will be changed to True in a future version of pandas. Pass observed=False to retain current behavior or observed=True to adopt the future default and silence this warning.\n",
      "  disp_grouped = df.groupby('mean_bin')['dispersions']\n"
     ]
    },
    {
     "name": "stdout",
     "output_type": "stream",
     "text": [
      "\n"
     ]
    },
    {
     "name": "stderr",
     "output_type": "stream",
     "text": [
      "/Users/jhjiang/miniconda3/envs/scVI-arm64/lib/python3.9/site-packages/scanpy/preprocessing/_highly_variable_genes.py:215: FutureWarning: The default of observed=False is deprecated and will be changed to True in a future version of pandas. Pass observed=False to retain current behavior or observed=True to adopt the future default and silence this warning.\n",
      "  disp_grouped = df.groupby('mean_bin')['dispersions']\n",
      "/Users/jhjiang/miniconda3/envs/scVI-arm64/lib/python3.9/site-packages/scanpy/preprocessing/_highly_variable_genes.py:215: FutureWarning: The default of observed=False is deprecated and will be changed to True in a future version of pandas. Pass observed=False to retain current behavior or observed=True to adopt the future default and silence this warning.\n",
      "  disp_grouped = df.groupby('mean_bin')['dispersions']\n",
      "/Users/jhjiang/miniconda3/envs/scVI-arm64/lib/python3.9/site-packages/scanpy/preprocessing/_highly_variable_genes.py:215: FutureWarning: The default of observed=False is deprecated and will be changed to True in a future version of pandas. Pass observed=False to retain current behavior or observed=True to adopt the future default and silence this warning.\n",
      "  disp_grouped = df.groupby('mean_bin')['dispersions']\n",
      "/Users/jhjiang/miniconda3/envs/scVI-arm64/lib/python3.9/site-packages/scanpy/preprocessing/_highly_variable_genes.py:215: FutureWarning: The default of observed=False is deprecated and will be changed to True in a future version of pandas. Pass observed=False to retain current behavior or observed=True to adopt the future default and silence this warning.\n",
      "  disp_grouped = df.groupby('mean_bin')['dispersions']\n",
      "/Users/jhjiang/miniconda3/envs/scVI-arm64/lib/python3.9/site-packages/scanpy/preprocessing/_highly_variable_genes.py:215: FutureWarning: The default of observed=False is deprecated and will be changed to True in a future version of pandas. Pass observed=False to retain current behavior or observed=True to adopt the future default and silence this warning.\n",
      "  disp_grouped = df.groupby('mean_bin')['dispersions']\n",
      "/Users/jhjiang/miniconda3/envs/scVI-arm64/lib/python3.9/site-packages/scanpy/preprocessing/_highly_variable_genes.py:215: FutureWarning: The default of observed=False is deprecated and will be changed to True in a future version of pandas. Pass observed=False to retain current behavior or observed=True to adopt the future default and silence this warning.\n",
      "  disp_grouped = df.groupby('mean_bin')['dispersions']\n",
      "/Users/jhjiang/miniconda3/envs/scVI-arm64/lib/python3.9/site-packages/scanpy/preprocessing/_highly_variable_genes.py:215: FutureWarning: The default of observed=False is deprecated and will be changed to True in a future version of pandas. Pass observed=False to retain current behavior or observed=True to adopt the future default and silence this warning.\n",
      "  disp_grouped = df.groupby('mean_bin')['dispersions']\n",
      "/Users/jhjiang/miniconda3/envs/scVI-arm64/lib/python3.9/site-packages/scanpy/preprocessing/_highly_variable_genes.py:215: FutureWarning: The default of observed=False is deprecated and will be changed to True in a future version of pandas. Pass observed=False to retain current behavior or observed=True to adopt the future default and silence this warning.\n",
      "  disp_grouped = df.groupby('mean_bin')['dispersions']\n",
      "/Users/jhjiang/miniconda3/envs/scVI-arm64/lib/python3.9/site-packages/scanpy/preprocessing/_highly_variable_genes.py:215: FutureWarning: The default of observed=False is deprecated and will be changed to True in a future version of pandas. Pass observed=False to retain current behavior or observed=True to adopt the future default and silence this warning.\n",
      "  disp_grouped = df.groupby('mean_bin')['dispersions']\n",
      "/Users/jhjiang/miniconda3/envs/scVI-arm64/lib/python3.9/site-packages/scanpy/preprocessing/_highly_variable_genes.py:215: FutureWarning: The default of observed=False is deprecated and will be changed to True in a future version of pandas. Pass observed=False to retain current behavior or observed=True to adopt the future default and silence this warning.\n",
      "  disp_grouped = df.groupby('mean_bin')['dispersions']\n",
      "/Users/jhjiang/miniconda3/envs/scVI-arm64/lib/python3.9/site-packages/scanpy/preprocessing/_highly_variable_genes.py:215: FutureWarning: The default of observed=False is deprecated and will be changed to True in a future version of pandas. Pass observed=False to retain current behavior or observed=True to adopt the future default and silence this warning.\n",
      "  disp_grouped = df.groupby('mean_bin')['dispersions']\n",
      "/Users/jhjiang/miniconda3/envs/scVI-arm64/lib/python3.9/site-packages/scanpy/preprocessing/_highly_variable_genes.py:215: FutureWarning: The default of observed=False is deprecated and will be changed to True in a future version of pandas. Pass observed=False to retain current behavior or observed=True to adopt the future default and silence this warning.\n",
      "  disp_grouped = df.groupby('mean_bin')['dispersions']\n",
      "/Users/jhjiang/miniconda3/envs/scVI-arm64/lib/python3.9/site-packages/scanpy/preprocessing/_highly_variable_genes.py:215: FutureWarning: The default of observed=False is deprecated and will be changed to True in a future version of pandas. Pass observed=False to retain current behavior or observed=True to adopt the future default and silence this warning.\n",
      "  disp_grouped = df.groupby('mean_bin')['dispersions']\n",
      "/Users/jhjiang/miniconda3/envs/scVI-arm64/lib/python3.9/site-packages/scanpy/preprocessing/_highly_variable_genes.py:215: FutureWarning: The default of observed=False is deprecated and will be changed to True in a future version of pandas. Pass observed=False to retain current behavior or observed=True to adopt the future default and silence this warning.\n",
      "  disp_grouped = df.groupby('mean_bin')['dispersions']\n",
      "/Users/jhjiang/miniconda3/envs/scVI-arm64/lib/python3.9/site-packages/scanpy/preprocessing/_highly_variable_genes.py:215: FutureWarning: The default of observed=False is deprecated and will be changed to True in a future version of pandas. Pass observed=False to retain current behavior or observed=True to adopt the future default and silence this warning.\n",
      "  disp_grouped = df.groupby('mean_bin')['dispersions']\n",
      "/Users/jhjiang/miniconda3/envs/scVI-arm64/lib/python3.9/site-packages/scanpy/preprocessing/_highly_variable_genes.py:215: FutureWarning: The default of observed=False is deprecated and will be changed to True in a future version of pandas. Pass observed=False to retain current behavior or observed=True to adopt the future default and silence this warning.\n",
      "  disp_grouped = df.groupby('mean_bin')['dispersions']\n",
      "/Users/jhjiang/miniconda3/envs/scVI-arm64/lib/python3.9/site-packages/scanpy/preprocessing/_highly_variable_genes.py:215: FutureWarning: The default of observed=False is deprecated and will be changed to True in a future version of pandas. Pass observed=False to retain current behavior or observed=True to adopt the future default and silence this warning.\n",
      "  disp_grouped = df.groupby('mean_bin')['dispersions']\n",
      "/Users/jhjiang/miniconda3/envs/scVI-arm64/lib/python3.9/site-packages/scanpy/preprocessing/_highly_variable_genes.py:215: FutureWarning: The default of observed=False is deprecated and will be changed to True in a future version of pandas. Pass observed=False to retain current behavior or observed=True to adopt the future default and silence this warning.\n",
      "  disp_grouped = df.groupby('mean_bin')['dispersions']\n",
      "/Users/jhjiang/miniconda3/envs/scVI-arm64/lib/python3.9/site-packages/scanpy/preprocessing/_highly_variable_genes.py:215: FutureWarning: The default of observed=False is deprecated and will be changed to True in a future version of pandas. Pass observed=False to retain current behavior or observed=True to adopt the future default and silence this warning.\n",
      "  disp_grouped = df.groupby('mean_bin')['dispersions']\n",
      "/Users/jhjiang/miniconda3/envs/scVI-arm64/lib/python3.9/site-packages/scanpy/preprocessing/_highly_variable_genes.py:215: FutureWarning: The default of observed=False is deprecated and will be changed to True in a future version of pandas. Pass observed=False to retain current behavior or observed=True to adopt the future default and silence this warning.\n",
      "  disp_grouped = df.groupby('mean_bin')['dispersions']\n",
      "/Users/jhjiang/miniconda3/envs/scVI-arm64/lib/python3.9/site-packages/scanpy/preprocessing/_highly_variable_genes.py:215: FutureWarning: The default of observed=False is deprecated and will be changed to True in a future version of pandas. Pass observed=False to retain current behavior or observed=True to adopt the future default and silence this warning.\n",
      "  disp_grouped = df.groupby('mean_bin')['dispersions']\n",
      "/Users/jhjiang/miniconda3/envs/scVI-arm64/lib/python3.9/site-packages/scanpy/preprocessing/_highly_variable_genes.py:215: FutureWarning: The default of observed=False is deprecated and will be changed to True in a future version of pandas. Pass observed=False to retain current behavior or observed=True to adopt the future default and silence this warning.\n",
      "  disp_grouped = df.groupby('mean_bin')['dispersions']\n",
      "/Users/jhjiang/miniconda3/envs/scVI-arm64/lib/python3.9/site-packages/scanpy/preprocessing/_highly_variable_genes.py:215: FutureWarning: The default of observed=False is deprecated and will be changed to True in a future version of pandas. Pass observed=False to retain current behavior or observed=True to adopt the future default and silence this warning.\n",
      "  disp_grouped = df.groupby('mean_bin')['dispersions']\n",
      "/Users/jhjiang/miniconda3/envs/scVI-arm64/lib/python3.9/site-packages/scanpy/preprocessing/_highly_variable_genes.py:215: FutureWarning: The default of observed=False is deprecated and will be changed to True in a future version of pandas. Pass observed=False to retain current behavior or observed=True to adopt the future default and silence this warning.\n",
      "  disp_grouped = df.groupby('mean_bin')['dispersions']\n",
      "/Users/jhjiang/miniconda3/envs/scVI-arm64/lib/python3.9/site-packages/scanpy/preprocessing/_highly_variable_genes.py:215: FutureWarning: The default of observed=False is deprecated and will be changed to True in a future version of pandas. Pass observed=False to retain current behavior or observed=True to adopt the future default and silence this warning.\n",
      "  disp_grouped = df.groupby('mean_bin')['dispersions']\n",
      "/Users/jhjiang/miniconda3/envs/scVI-arm64/lib/python3.9/site-packages/scanpy/preprocessing/_highly_variable_genes.py:215: FutureWarning: The default of observed=False is deprecated and will be changed to True in a future version of pandas. Pass observed=False to retain current behavior or observed=True to adopt the future default and silence this warning.\n",
      "  disp_grouped = df.groupby('mean_bin')['dispersions']\n",
      "/Users/jhjiang/miniconda3/envs/scVI-arm64/lib/python3.9/site-packages/scanpy/preprocessing/_highly_variable_genes.py:494: FutureWarning: The provided callable <function nanmean at 0x1106393a0> is currently using SeriesGroupBy.mean. In a future version of pandas, the provided callable will be used directly. To keep current behavior pass the string \"mean\" instead.\n",
      "  df = df.groupby('gene').agg(\n",
      "/Users/jhjiang/miniconda3/envs/scVI-arm64/lib/python3.9/site-packages/scanpy/preprocessing/_highly_variable_genes.py:494: FutureWarning: The provided callable <function nanmean at 0x1106393a0> is currently using SeriesGroupBy.mean. In a future version of pandas, the provided callable will be used directly. To keep current behavior pass the string \"mean\" instead.\n",
      "  df = df.groupby('gene').agg(\n",
      "/Users/jhjiang/miniconda3/envs/scVI-arm64/lib/python3.9/site-packages/scanpy/preprocessing/_highly_variable_genes.py:494: FutureWarning: The provided callable <function nansum at 0x11062eee0> is currently using SeriesGroupBy.sum. In a future version of pandas, the provided callable will be used directly. To keep current behavior pass the string \"sum\" instead.\n",
      "  df = df.groupby('gene').agg(\n"
     ]
    }
   ],
   "source": [
    "# select highly variable genes and only use these same genes for the query\n",
    "#sc.pp.normalize_total(ref, target_sum=1e5)\n",
    "sc.pp.log1p(ref)\n",
    "sc.pp.highly_variable_genes(ref, n_top_genes=5000, batch_key=\"batch\")"
   ]
  },
  {
   "cell_type": "code",
   "execution_count": 27,
   "id": "cc5db4a6-10f2-4c0a-9792-aa4a66088e18",
   "metadata": {},
   "outputs": [],
   "source": [
    "ref2 = ref[:, np.where(ref.var['highly_variable'])[0]].copy()"
   ]
  },
  {
   "cell_type": "code",
   "execution_count": null,
   "id": "558adec8-d45c-43a6-b492-68bc57ba6de1",
   "metadata": {},
   "outputs": [
    {
     "name": "stderr",
     "output_type": "stream",
     "text": [
      "/Users/jhjiang/miniconda3/envs/scVI-arm64/lib/python3.9/site-packages/scvi/data/_utils.py:177: ImplicitModificationWarning: Trying to modify attribute `.obs` of view, initializing view as actual.\n",
      "  df[alternate_column_key] = codes\n",
      "/Users/jhjiang/miniconda3/envs/scVI-arm64/lib/python3.9/site-packages/anndata/_core/views.py:79: ImplicitModificationWarning: Trying to modify attribute `.obs` of view, initializing view as actual.\n",
      "  container[idx] = value\n"
     ]
    }
   ],
   "source": [
    "scvi.model.SCANVI.setup_anndata(ref2, batch_key=\"batch\",  labels_key=\"subtype\", unlabeled_category=\"Unknown\", layer=\"counts\")"
   ]
  },
  {
   "cell_type": "code",
   "execution_count": 11,
   "id": "8f7dc006",
   "metadata": {},
   "outputs": [
    {
     "name": "stdout",
     "output_type": "stream",
     "text": [
      "\u001b[34mINFO    \u001b[0m Training for \u001b[1;36m358\u001b[0m epochs.                                                                                  \n"
     ]
    },
    {
     "name": "stderr",
     "output_type": "stream",
     "text": [
      "/Users/jhjiang/miniconda3/envs/scVI-arm64/lib/python3.9/site-packages/scvi/train/_trainrunner.py:76: UserWarning: `accelerator` has been set to `mps`. Please note that not all PyTorch operations are supported with this backend. Refer to https://github.com/pytorch/pytorch/issues/77764 for more details.\n",
      "  accelerator, lightning_devices, device = parse_device_args(\n",
      "GPU available: True (mps), used: True\n",
      "TPU available: False, using: 0 TPU cores\n",
      "IPU available: False, using: 0 IPUs\n",
      "HPU available: False, using: 0 HPUs\n"
     ]
    },
    {
     "name": "stdout",
     "output_type": "stream",
     "text": [
      "Epoch 1/358:   0%|                                                                                                      | 0/358 [00:00<?, ?it/s]"
     ]
    },
    {
     "ename": "ValueError",
     "evalue": "Expected parameter loc (Tensor of shape (128, 10)) of distribution Normal(loc: torch.Size([128, 10]), scale: torch.Size([128, 10])) to satisfy the constraint Real(), but found invalid values:\ntensor([[nan, nan, nan,  ..., nan, nan, nan],\n        [nan, nan, nan,  ..., nan, nan, nan],\n        [nan, nan, nan,  ..., nan, nan, nan],\n        ...,\n        [nan, nan, nan,  ..., nan, nan, nan],\n        [nan, nan, nan,  ..., nan, nan, nan],\n        [nan, nan, nan,  ..., nan, nan, nan]], device='mps:0',\n       grad_fn=<LinearBackward0>)",
     "output_type": "error",
     "traceback": [
      "\u001b[0;31m---------------------------------------------------------------------------\u001b[0m",
      "\u001b[0;31mValueError\u001b[0m                                Traceback (most recent call last)",
      "Cell \u001b[0;32mIn[11], line 2\u001b[0m\n\u001b[1;32m      1\u001b[0m model_ref \u001b[38;5;241m=\u001b[39m scvi\u001b[38;5;241m.\u001b[39mmodel\u001b[38;5;241m.\u001b[39mSCANVI(ref)\n\u001b[0;32m----> 2\u001b[0m \u001b[43mmodel_ref\u001b[49m\u001b[38;5;241;43m.\u001b[39;49m\u001b[43mtrain\u001b[49m\u001b[43m(\u001b[49m\u001b[43maccelerator\u001b[49m\u001b[38;5;241;43m=\u001b[39;49m\u001b[38;5;124;43m\"\u001b[39;49m\u001b[38;5;124;43mmps\u001b[39;49m\u001b[38;5;124;43m\"\u001b[39;49m\u001b[43m)\u001b[49m\n",
      "File \u001b[0;32m~/miniconda3/envs/scVI-arm64/lib/python3.9/site-packages/scvi/model/_scanvi.py:439\u001b[0m, in \u001b[0;36mSCANVI.train\u001b[0;34m(self, max_epochs, n_samples_per_label, check_val_every_n_epoch, train_size, validation_size, shuffle_set_split, batch_size, use_gpu, accelerator, devices, plan_kwargs, **trainer_kwargs)\u001b[0m\n\u001b[1;32m    426\u001b[0m     trainer_kwargs[\u001b[38;5;124m\"\u001b[39m\u001b[38;5;124mcallbacks\u001b[39m\u001b[38;5;124m\"\u001b[39m] \u001b[38;5;241m=\u001b[39m sampler_callback\n\u001b[1;32m    428\u001b[0m runner \u001b[38;5;241m=\u001b[39m TrainRunner(\n\u001b[1;32m    429\u001b[0m     \u001b[38;5;28mself\u001b[39m,\n\u001b[1;32m    430\u001b[0m     training_plan\u001b[38;5;241m=\u001b[39mtraining_plan,\n\u001b[0;32m   (...)\u001b[0m\n\u001b[1;32m    437\u001b[0m     \u001b[38;5;241m*\u001b[39m\u001b[38;5;241m*\u001b[39mtrainer_kwargs,\n\u001b[1;32m    438\u001b[0m )\n\u001b[0;32m--> 439\u001b[0m \u001b[38;5;28;01mreturn\u001b[39;00m \u001b[43mrunner\u001b[49m\u001b[43m(\u001b[49m\u001b[43m)\u001b[49m\n",
      "File \u001b[0;32m~/miniconda3/envs/scVI-arm64/lib/python3.9/site-packages/scvi/train/_trainrunner.py:99\u001b[0m, in \u001b[0;36mTrainRunner.__call__\u001b[0;34m(self)\u001b[0m\n\u001b[1;32m     96\u001b[0m \u001b[38;5;28;01mif\u001b[39;00m \u001b[38;5;28mhasattr\u001b[39m(\u001b[38;5;28mself\u001b[39m\u001b[38;5;241m.\u001b[39mdata_splitter, \u001b[38;5;124m\"\u001b[39m\u001b[38;5;124mn_val\u001b[39m\u001b[38;5;124m\"\u001b[39m):\n\u001b[1;32m     97\u001b[0m     \u001b[38;5;28mself\u001b[39m\u001b[38;5;241m.\u001b[39mtraining_plan\u001b[38;5;241m.\u001b[39mn_obs_validation \u001b[38;5;241m=\u001b[39m \u001b[38;5;28mself\u001b[39m\u001b[38;5;241m.\u001b[39mdata_splitter\u001b[38;5;241m.\u001b[39mn_val\n\u001b[0;32m---> 99\u001b[0m \u001b[38;5;28;43mself\u001b[39;49m\u001b[38;5;241;43m.\u001b[39;49m\u001b[43mtrainer\u001b[49m\u001b[38;5;241;43m.\u001b[39;49m\u001b[43mfit\u001b[49m\u001b[43m(\u001b[49m\u001b[38;5;28;43mself\u001b[39;49m\u001b[38;5;241;43m.\u001b[39;49m\u001b[43mtraining_plan\u001b[49m\u001b[43m,\u001b[49m\u001b[43m \u001b[49m\u001b[38;5;28;43mself\u001b[39;49m\u001b[38;5;241;43m.\u001b[39;49m\u001b[43mdata_splitter\u001b[49m\u001b[43m)\u001b[49m\n\u001b[1;32m    100\u001b[0m \u001b[38;5;28mself\u001b[39m\u001b[38;5;241m.\u001b[39m_update_history()\n\u001b[1;32m    102\u001b[0m \u001b[38;5;66;03m# data splitter only gets these attrs after fit\u001b[39;00m\n",
      "File \u001b[0;32m~/miniconda3/envs/scVI-arm64/lib/python3.9/site-packages/scvi/train/_trainer.py:186\u001b[0m, in \u001b[0;36mTrainer.fit\u001b[0;34m(self, *args, **kwargs)\u001b[0m\n\u001b[1;32m    180\u001b[0m \u001b[38;5;28;01mif\u001b[39;00m \u001b[38;5;28misinstance\u001b[39m(args[\u001b[38;5;241m0\u001b[39m], PyroTrainingPlan):\n\u001b[1;32m    181\u001b[0m     warnings\u001b[38;5;241m.\u001b[39mfilterwarnings(\n\u001b[1;32m    182\u001b[0m         action\u001b[38;5;241m=\u001b[39m\u001b[38;5;124m\"\u001b[39m\u001b[38;5;124mignore\u001b[39m\u001b[38;5;124m\"\u001b[39m,\n\u001b[1;32m    183\u001b[0m         category\u001b[38;5;241m=\u001b[39m\u001b[38;5;167;01mUserWarning\u001b[39;00m,\n\u001b[1;32m    184\u001b[0m         message\u001b[38;5;241m=\u001b[39m\u001b[38;5;124m\"\u001b[39m\u001b[38;5;124m`LightningModule.configure_optimizers` returned `None`\u001b[39m\u001b[38;5;124m\"\u001b[39m,\n\u001b[1;32m    185\u001b[0m     )\n\u001b[0;32m--> 186\u001b[0m \u001b[38;5;28;43msuper\u001b[39;49m\u001b[43m(\u001b[49m\u001b[43m)\u001b[49m\u001b[38;5;241;43m.\u001b[39;49m\u001b[43mfit\u001b[49m\u001b[43m(\u001b[49m\u001b[38;5;241;43m*\u001b[39;49m\u001b[43margs\u001b[49m\u001b[43m,\u001b[49m\u001b[43m \u001b[49m\u001b[38;5;241;43m*\u001b[39;49m\u001b[38;5;241;43m*\u001b[39;49m\u001b[43mkwargs\u001b[49m\u001b[43m)\u001b[49m\n",
      "File \u001b[0;32m~/miniconda3/envs/scVI-arm64/lib/python3.9/site-packages/lightning/pytorch/trainer/trainer.py:532\u001b[0m, in \u001b[0;36mTrainer.fit\u001b[0;34m(self, model, train_dataloaders, val_dataloaders, datamodule, ckpt_path)\u001b[0m\n\u001b[1;32m    530\u001b[0m \u001b[38;5;28mself\u001b[39m\u001b[38;5;241m.\u001b[39mstrategy\u001b[38;5;241m.\u001b[39m_lightning_module \u001b[38;5;241m=\u001b[39m model\n\u001b[1;32m    531\u001b[0m _verify_strategy_supports_compile(model, \u001b[38;5;28mself\u001b[39m\u001b[38;5;241m.\u001b[39mstrategy)\n\u001b[0;32m--> 532\u001b[0m \u001b[43mcall\u001b[49m\u001b[38;5;241;43m.\u001b[39;49m\u001b[43m_call_and_handle_interrupt\u001b[49m\u001b[43m(\u001b[49m\n\u001b[1;32m    533\u001b[0m \u001b[43m    \u001b[49m\u001b[38;5;28;43mself\u001b[39;49m\u001b[43m,\u001b[49m\u001b[43m \u001b[49m\u001b[38;5;28;43mself\u001b[39;49m\u001b[38;5;241;43m.\u001b[39;49m\u001b[43m_fit_impl\u001b[49m\u001b[43m,\u001b[49m\u001b[43m \u001b[49m\u001b[43mmodel\u001b[49m\u001b[43m,\u001b[49m\u001b[43m \u001b[49m\u001b[43mtrain_dataloaders\u001b[49m\u001b[43m,\u001b[49m\u001b[43m \u001b[49m\u001b[43mval_dataloaders\u001b[49m\u001b[43m,\u001b[49m\u001b[43m \u001b[49m\u001b[43mdatamodule\u001b[49m\u001b[43m,\u001b[49m\u001b[43m \u001b[49m\u001b[43mckpt_path\u001b[49m\n\u001b[1;32m    534\u001b[0m \u001b[43m\u001b[49m\u001b[43m)\u001b[49m\n",
      "File \u001b[0;32m~/miniconda3/envs/scVI-arm64/lib/python3.9/site-packages/lightning/pytorch/trainer/call.py:43\u001b[0m, in \u001b[0;36m_call_and_handle_interrupt\u001b[0;34m(trainer, trainer_fn, *args, **kwargs)\u001b[0m\n\u001b[1;32m     41\u001b[0m     \u001b[38;5;28;01mif\u001b[39;00m trainer\u001b[38;5;241m.\u001b[39mstrategy\u001b[38;5;241m.\u001b[39mlauncher \u001b[38;5;129;01mis\u001b[39;00m \u001b[38;5;129;01mnot\u001b[39;00m \u001b[38;5;28;01mNone\u001b[39;00m:\n\u001b[1;32m     42\u001b[0m         \u001b[38;5;28;01mreturn\u001b[39;00m trainer\u001b[38;5;241m.\u001b[39mstrategy\u001b[38;5;241m.\u001b[39mlauncher\u001b[38;5;241m.\u001b[39mlaunch(trainer_fn, \u001b[38;5;241m*\u001b[39margs, trainer\u001b[38;5;241m=\u001b[39mtrainer, \u001b[38;5;241m*\u001b[39m\u001b[38;5;241m*\u001b[39mkwargs)\n\u001b[0;32m---> 43\u001b[0m     \u001b[38;5;28;01mreturn\u001b[39;00m \u001b[43mtrainer_fn\u001b[49m\u001b[43m(\u001b[49m\u001b[38;5;241;43m*\u001b[39;49m\u001b[43margs\u001b[49m\u001b[43m,\u001b[49m\u001b[43m \u001b[49m\u001b[38;5;241;43m*\u001b[39;49m\u001b[38;5;241;43m*\u001b[39;49m\u001b[43mkwargs\u001b[49m\u001b[43m)\u001b[49m\n\u001b[1;32m     45\u001b[0m \u001b[38;5;28;01mexcept\u001b[39;00m _TunerExitException:\n\u001b[1;32m     46\u001b[0m     _call_teardown_hook(trainer)\n",
      "File \u001b[0;32m~/miniconda3/envs/scVI-arm64/lib/python3.9/site-packages/lightning/pytorch/trainer/trainer.py:571\u001b[0m, in \u001b[0;36mTrainer._fit_impl\u001b[0;34m(self, model, train_dataloaders, val_dataloaders, datamodule, ckpt_path)\u001b[0m\n\u001b[1;32m    561\u001b[0m \u001b[38;5;28mself\u001b[39m\u001b[38;5;241m.\u001b[39m_data_connector\u001b[38;5;241m.\u001b[39mattach_data(\n\u001b[1;32m    562\u001b[0m     model, train_dataloaders\u001b[38;5;241m=\u001b[39mtrain_dataloaders, val_dataloaders\u001b[38;5;241m=\u001b[39mval_dataloaders, datamodule\u001b[38;5;241m=\u001b[39mdatamodule\n\u001b[1;32m    563\u001b[0m )\n\u001b[1;32m    565\u001b[0m ckpt_path \u001b[38;5;241m=\u001b[39m \u001b[38;5;28mself\u001b[39m\u001b[38;5;241m.\u001b[39m_checkpoint_connector\u001b[38;5;241m.\u001b[39m_select_ckpt_path(\n\u001b[1;32m    566\u001b[0m     \u001b[38;5;28mself\u001b[39m\u001b[38;5;241m.\u001b[39mstate\u001b[38;5;241m.\u001b[39mfn,\n\u001b[1;32m    567\u001b[0m     ckpt_path,\n\u001b[1;32m    568\u001b[0m     model_provided\u001b[38;5;241m=\u001b[39m\u001b[38;5;28;01mTrue\u001b[39;00m,\n\u001b[1;32m    569\u001b[0m     model_connected\u001b[38;5;241m=\u001b[39m\u001b[38;5;28mself\u001b[39m\u001b[38;5;241m.\u001b[39mlightning_module \u001b[38;5;129;01mis\u001b[39;00m \u001b[38;5;129;01mnot\u001b[39;00m \u001b[38;5;28;01mNone\u001b[39;00m,\n\u001b[1;32m    570\u001b[0m )\n\u001b[0;32m--> 571\u001b[0m \u001b[38;5;28;43mself\u001b[39;49m\u001b[38;5;241;43m.\u001b[39;49m\u001b[43m_run\u001b[49m\u001b[43m(\u001b[49m\u001b[43mmodel\u001b[49m\u001b[43m,\u001b[49m\u001b[43m \u001b[49m\u001b[43mckpt_path\u001b[49m\u001b[38;5;241;43m=\u001b[39;49m\u001b[43mckpt_path\u001b[49m\u001b[43m)\u001b[49m\n\u001b[1;32m    573\u001b[0m \u001b[38;5;28;01massert\u001b[39;00m \u001b[38;5;28mself\u001b[39m\u001b[38;5;241m.\u001b[39mstate\u001b[38;5;241m.\u001b[39mstopped\n\u001b[1;32m    574\u001b[0m \u001b[38;5;28mself\u001b[39m\u001b[38;5;241m.\u001b[39mtraining \u001b[38;5;241m=\u001b[39m \u001b[38;5;28;01mFalse\u001b[39;00m\n",
      "File \u001b[0;32m~/miniconda3/envs/scVI-arm64/lib/python3.9/site-packages/lightning/pytorch/trainer/trainer.py:980\u001b[0m, in \u001b[0;36mTrainer._run\u001b[0;34m(self, model, ckpt_path)\u001b[0m\n\u001b[1;32m    975\u001b[0m \u001b[38;5;28mself\u001b[39m\u001b[38;5;241m.\u001b[39m_signal_connector\u001b[38;5;241m.\u001b[39mregister_signal_handlers()\n\u001b[1;32m    977\u001b[0m \u001b[38;5;66;03m# ----------------------------\u001b[39;00m\n\u001b[1;32m    978\u001b[0m \u001b[38;5;66;03m# RUN THE TRAINER\u001b[39;00m\n\u001b[1;32m    979\u001b[0m \u001b[38;5;66;03m# ----------------------------\u001b[39;00m\n\u001b[0;32m--> 980\u001b[0m results \u001b[38;5;241m=\u001b[39m \u001b[38;5;28;43mself\u001b[39;49m\u001b[38;5;241;43m.\u001b[39;49m\u001b[43m_run_stage\u001b[49m\u001b[43m(\u001b[49m\u001b[43m)\u001b[49m\n\u001b[1;32m    982\u001b[0m \u001b[38;5;66;03m# ----------------------------\u001b[39;00m\n\u001b[1;32m    983\u001b[0m \u001b[38;5;66;03m# POST-Training CLEAN UP\u001b[39;00m\n\u001b[1;32m    984\u001b[0m \u001b[38;5;66;03m# ----------------------------\u001b[39;00m\n\u001b[1;32m    985\u001b[0m log\u001b[38;5;241m.\u001b[39mdebug(\u001b[38;5;124mf\u001b[39m\u001b[38;5;124m\"\u001b[39m\u001b[38;5;132;01m{\u001b[39;00m\u001b[38;5;28mself\u001b[39m\u001b[38;5;241m.\u001b[39m\u001b[38;5;18m__class__\u001b[39m\u001b[38;5;241m.\u001b[39m\u001b[38;5;18m__name__\u001b[39m\u001b[38;5;132;01m}\u001b[39;00m\u001b[38;5;124m: trainer tearing down\u001b[39m\u001b[38;5;124m\"\u001b[39m)\n",
      "File \u001b[0;32m~/miniconda3/envs/scVI-arm64/lib/python3.9/site-packages/lightning/pytorch/trainer/trainer.py:1023\u001b[0m, in \u001b[0;36mTrainer._run_stage\u001b[0;34m(self)\u001b[0m\n\u001b[1;32m   1021\u001b[0m         \u001b[38;5;28mself\u001b[39m\u001b[38;5;241m.\u001b[39m_run_sanity_check()\n\u001b[1;32m   1022\u001b[0m     \u001b[38;5;28;01mwith\u001b[39;00m torch\u001b[38;5;241m.\u001b[39mautograd\u001b[38;5;241m.\u001b[39mset_detect_anomaly(\u001b[38;5;28mself\u001b[39m\u001b[38;5;241m.\u001b[39m_detect_anomaly):\n\u001b[0;32m-> 1023\u001b[0m         \u001b[38;5;28;43mself\u001b[39;49m\u001b[38;5;241;43m.\u001b[39;49m\u001b[43mfit_loop\u001b[49m\u001b[38;5;241;43m.\u001b[39;49m\u001b[43mrun\u001b[49m\u001b[43m(\u001b[49m\u001b[43m)\u001b[49m\n\u001b[1;32m   1024\u001b[0m     \u001b[38;5;28;01mreturn\u001b[39;00m \u001b[38;5;28;01mNone\u001b[39;00m\n\u001b[1;32m   1025\u001b[0m \u001b[38;5;28;01mraise\u001b[39;00m \u001b[38;5;167;01mRuntimeError\u001b[39;00m(\u001b[38;5;124mf\u001b[39m\u001b[38;5;124m\"\u001b[39m\u001b[38;5;124mUnexpected state \u001b[39m\u001b[38;5;132;01m{\u001b[39;00m\u001b[38;5;28mself\u001b[39m\u001b[38;5;241m.\u001b[39mstate\u001b[38;5;132;01m}\u001b[39;00m\u001b[38;5;124m\"\u001b[39m)\n",
      "File \u001b[0;32m~/miniconda3/envs/scVI-arm64/lib/python3.9/site-packages/lightning/pytorch/loops/fit_loop.py:202\u001b[0m, in \u001b[0;36m_FitLoop.run\u001b[0;34m(self)\u001b[0m\n\u001b[1;32m    200\u001b[0m \u001b[38;5;28;01mtry\u001b[39;00m:\n\u001b[1;32m    201\u001b[0m     \u001b[38;5;28mself\u001b[39m\u001b[38;5;241m.\u001b[39mon_advance_start()\n\u001b[0;32m--> 202\u001b[0m     \u001b[38;5;28;43mself\u001b[39;49m\u001b[38;5;241;43m.\u001b[39;49m\u001b[43madvance\u001b[49m\u001b[43m(\u001b[49m\u001b[43m)\u001b[49m\n\u001b[1;32m    203\u001b[0m     \u001b[38;5;28mself\u001b[39m\u001b[38;5;241m.\u001b[39mon_advance_end()\n\u001b[1;32m    204\u001b[0m     \u001b[38;5;28mself\u001b[39m\u001b[38;5;241m.\u001b[39m_restarting \u001b[38;5;241m=\u001b[39m \u001b[38;5;28;01mFalse\u001b[39;00m\n",
      "File \u001b[0;32m~/miniconda3/envs/scVI-arm64/lib/python3.9/site-packages/lightning/pytorch/loops/fit_loop.py:355\u001b[0m, in \u001b[0;36m_FitLoop.advance\u001b[0;34m(self)\u001b[0m\n\u001b[1;32m    353\u001b[0m \u001b[38;5;28mself\u001b[39m\u001b[38;5;241m.\u001b[39m_data_fetcher\u001b[38;5;241m.\u001b[39msetup(combined_loader)\n\u001b[1;32m    354\u001b[0m \u001b[38;5;28;01mwith\u001b[39;00m \u001b[38;5;28mself\u001b[39m\u001b[38;5;241m.\u001b[39mtrainer\u001b[38;5;241m.\u001b[39mprofiler\u001b[38;5;241m.\u001b[39mprofile(\u001b[38;5;124m\"\u001b[39m\u001b[38;5;124mrun_training_epoch\u001b[39m\u001b[38;5;124m\"\u001b[39m):\n\u001b[0;32m--> 355\u001b[0m     \u001b[38;5;28;43mself\u001b[39;49m\u001b[38;5;241;43m.\u001b[39;49m\u001b[43mepoch_loop\u001b[49m\u001b[38;5;241;43m.\u001b[39;49m\u001b[43mrun\u001b[49m\u001b[43m(\u001b[49m\u001b[38;5;28;43mself\u001b[39;49m\u001b[38;5;241;43m.\u001b[39;49m\u001b[43m_data_fetcher\u001b[49m\u001b[43m)\u001b[49m\n",
      "File \u001b[0;32m~/miniconda3/envs/scVI-arm64/lib/python3.9/site-packages/lightning/pytorch/loops/training_epoch_loop.py:133\u001b[0m, in \u001b[0;36m_TrainingEpochLoop.run\u001b[0;34m(self, data_fetcher)\u001b[0m\n\u001b[1;32m    131\u001b[0m \u001b[38;5;28;01mwhile\u001b[39;00m \u001b[38;5;129;01mnot\u001b[39;00m \u001b[38;5;28mself\u001b[39m\u001b[38;5;241m.\u001b[39mdone:\n\u001b[1;32m    132\u001b[0m     \u001b[38;5;28;01mtry\u001b[39;00m:\n\u001b[0;32m--> 133\u001b[0m         \u001b[38;5;28;43mself\u001b[39;49m\u001b[38;5;241;43m.\u001b[39;49m\u001b[43madvance\u001b[49m\u001b[43m(\u001b[49m\u001b[43mdata_fetcher\u001b[49m\u001b[43m)\u001b[49m\n\u001b[1;32m    134\u001b[0m         \u001b[38;5;28mself\u001b[39m\u001b[38;5;241m.\u001b[39mon_advance_end()\n\u001b[1;32m    135\u001b[0m         \u001b[38;5;28mself\u001b[39m\u001b[38;5;241m.\u001b[39m_restarting \u001b[38;5;241m=\u001b[39m \u001b[38;5;28;01mFalse\u001b[39;00m\n",
      "File \u001b[0;32m~/miniconda3/envs/scVI-arm64/lib/python3.9/site-packages/lightning/pytorch/loops/training_epoch_loop.py:219\u001b[0m, in \u001b[0;36m_TrainingEpochLoop.advance\u001b[0;34m(self, data_fetcher)\u001b[0m\n\u001b[1;32m    216\u001b[0m \u001b[38;5;28;01mwith\u001b[39;00m trainer\u001b[38;5;241m.\u001b[39mprofiler\u001b[38;5;241m.\u001b[39mprofile(\u001b[38;5;124m\"\u001b[39m\u001b[38;5;124mrun_training_batch\u001b[39m\u001b[38;5;124m\"\u001b[39m):\n\u001b[1;32m    217\u001b[0m     \u001b[38;5;28;01mif\u001b[39;00m trainer\u001b[38;5;241m.\u001b[39mlightning_module\u001b[38;5;241m.\u001b[39mautomatic_optimization:\n\u001b[1;32m    218\u001b[0m         \u001b[38;5;66;03m# in automatic optimization, there can only be one optimizer\u001b[39;00m\n\u001b[0;32m--> 219\u001b[0m         batch_output \u001b[38;5;241m=\u001b[39m \u001b[38;5;28;43mself\u001b[39;49m\u001b[38;5;241;43m.\u001b[39;49m\u001b[43mautomatic_optimization\u001b[49m\u001b[38;5;241;43m.\u001b[39;49m\u001b[43mrun\u001b[49m\u001b[43m(\u001b[49m\u001b[43mtrainer\u001b[49m\u001b[38;5;241;43m.\u001b[39;49m\u001b[43moptimizers\u001b[49m\u001b[43m[\u001b[49m\u001b[38;5;241;43m0\u001b[39;49m\u001b[43m]\u001b[49m\u001b[43m,\u001b[49m\u001b[43m \u001b[49m\u001b[43mkwargs\u001b[49m\u001b[43m)\u001b[49m\n\u001b[1;32m    220\u001b[0m     \u001b[38;5;28;01melse\u001b[39;00m:\n\u001b[1;32m    221\u001b[0m         batch_output \u001b[38;5;241m=\u001b[39m \u001b[38;5;28mself\u001b[39m\u001b[38;5;241m.\u001b[39mmanual_optimization\u001b[38;5;241m.\u001b[39mrun(kwargs)\n",
      "File \u001b[0;32m~/miniconda3/envs/scVI-arm64/lib/python3.9/site-packages/lightning/pytorch/loops/optimization/automatic.py:188\u001b[0m, in \u001b[0;36m_AutomaticOptimization.run\u001b[0;34m(self, optimizer, kwargs)\u001b[0m\n\u001b[1;32m    181\u001b[0m         closure()\n\u001b[1;32m    183\u001b[0m \u001b[38;5;66;03m# ------------------------------\u001b[39;00m\n\u001b[1;32m    184\u001b[0m \u001b[38;5;66;03m# BACKWARD PASS\u001b[39;00m\n\u001b[1;32m    185\u001b[0m \u001b[38;5;66;03m# ------------------------------\u001b[39;00m\n\u001b[1;32m    186\u001b[0m \u001b[38;5;66;03m# gradient update with accumulated gradients\u001b[39;00m\n\u001b[1;32m    187\u001b[0m \u001b[38;5;28;01melse\u001b[39;00m:\n\u001b[0;32m--> 188\u001b[0m     \u001b[38;5;28;43mself\u001b[39;49m\u001b[38;5;241;43m.\u001b[39;49m\u001b[43m_optimizer_step\u001b[49m\u001b[43m(\u001b[49m\u001b[43mkwargs\u001b[49m\u001b[38;5;241;43m.\u001b[39;49m\u001b[43mget\u001b[49m\u001b[43m(\u001b[49m\u001b[38;5;124;43m\"\u001b[39;49m\u001b[38;5;124;43mbatch_idx\u001b[39;49m\u001b[38;5;124;43m\"\u001b[39;49m\u001b[43m,\u001b[49m\u001b[43m \u001b[49m\u001b[38;5;241;43m0\u001b[39;49m\u001b[43m)\u001b[49m\u001b[43m,\u001b[49m\u001b[43m \u001b[49m\u001b[43mclosure\u001b[49m\u001b[43m)\u001b[49m\n\u001b[1;32m    190\u001b[0m result \u001b[38;5;241m=\u001b[39m closure\u001b[38;5;241m.\u001b[39mconsume_result()\n\u001b[1;32m    191\u001b[0m \u001b[38;5;28;01mif\u001b[39;00m result\u001b[38;5;241m.\u001b[39mloss \u001b[38;5;129;01mis\u001b[39;00m \u001b[38;5;28;01mNone\u001b[39;00m:\n",
      "File \u001b[0;32m~/miniconda3/envs/scVI-arm64/lib/python3.9/site-packages/lightning/pytorch/loops/optimization/automatic.py:266\u001b[0m, in \u001b[0;36m_AutomaticOptimization._optimizer_step\u001b[0;34m(self, batch_idx, train_step_and_backward_closure)\u001b[0m\n\u001b[1;32m    263\u001b[0m     \u001b[38;5;28mself\u001b[39m\u001b[38;5;241m.\u001b[39moptim_progress\u001b[38;5;241m.\u001b[39moptimizer\u001b[38;5;241m.\u001b[39mstep\u001b[38;5;241m.\u001b[39mincrement_ready()\n\u001b[1;32m    265\u001b[0m \u001b[38;5;66;03m# model hook\u001b[39;00m\n\u001b[0;32m--> 266\u001b[0m \u001b[43mcall\u001b[49m\u001b[38;5;241;43m.\u001b[39;49m\u001b[43m_call_lightning_module_hook\u001b[49m\u001b[43m(\u001b[49m\n\u001b[1;32m    267\u001b[0m \u001b[43m    \u001b[49m\u001b[43mtrainer\u001b[49m\u001b[43m,\u001b[49m\n\u001b[1;32m    268\u001b[0m \u001b[43m    \u001b[49m\u001b[38;5;124;43m\"\u001b[39;49m\u001b[38;5;124;43moptimizer_step\u001b[39;49m\u001b[38;5;124;43m\"\u001b[39;49m\u001b[43m,\u001b[49m\n\u001b[1;32m    269\u001b[0m \u001b[43m    \u001b[49m\u001b[43mtrainer\u001b[49m\u001b[38;5;241;43m.\u001b[39;49m\u001b[43mcurrent_epoch\u001b[49m\u001b[43m,\u001b[49m\n\u001b[1;32m    270\u001b[0m \u001b[43m    \u001b[49m\u001b[43mbatch_idx\u001b[49m\u001b[43m,\u001b[49m\n\u001b[1;32m    271\u001b[0m \u001b[43m    \u001b[49m\u001b[43moptimizer\u001b[49m\u001b[43m,\u001b[49m\n\u001b[1;32m    272\u001b[0m \u001b[43m    \u001b[49m\u001b[43mtrain_step_and_backward_closure\u001b[49m\u001b[43m,\u001b[49m\n\u001b[1;32m    273\u001b[0m \u001b[43m\u001b[49m\u001b[43m)\u001b[49m\n\u001b[1;32m    275\u001b[0m \u001b[38;5;28;01mif\u001b[39;00m \u001b[38;5;129;01mnot\u001b[39;00m should_accumulate:\n\u001b[1;32m    276\u001b[0m     \u001b[38;5;28mself\u001b[39m\u001b[38;5;241m.\u001b[39moptim_progress\u001b[38;5;241m.\u001b[39moptimizer\u001b[38;5;241m.\u001b[39mstep\u001b[38;5;241m.\u001b[39mincrement_completed()\n",
      "File \u001b[0;32m~/miniconda3/envs/scVI-arm64/lib/python3.9/site-packages/lightning/pytorch/trainer/call.py:146\u001b[0m, in \u001b[0;36m_call_lightning_module_hook\u001b[0;34m(trainer, hook_name, pl_module, *args, **kwargs)\u001b[0m\n\u001b[1;32m    143\u001b[0m pl_module\u001b[38;5;241m.\u001b[39m_current_fx_name \u001b[38;5;241m=\u001b[39m hook_name\n\u001b[1;32m    145\u001b[0m \u001b[38;5;28;01mwith\u001b[39;00m trainer\u001b[38;5;241m.\u001b[39mprofiler\u001b[38;5;241m.\u001b[39mprofile(\u001b[38;5;124mf\u001b[39m\u001b[38;5;124m\"\u001b[39m\u001b[38;5;124m[LightningModule]\u001b[39m\u001b[38;5;132;01m{\u001b[39;00mpl_module\u001b[38;5;241m.\u001b[39m\u001b[38;5;18m__class__\u001b[39m\u001b[38;5;241m.\u001b[39m\u001b[38;5;18m__name__\u001b[39m\u001b[38;5;132;01m}\u001b[39;00m\u001b[38;5;124m.\u001b[39m\u001b[38;5;132;01m{\u001b[39;00mhook_name\u001b[38;5;132;01m}\u001b[39;00m\u001b[38;5;124m\"\u001b[39m):\n\u001b[0;32m--> 146\u001b[0m     output \u001b[38;5;241m=\u001b[39m \u001b[43mfn\u001b[49m\u001b[43m(\u001b[49m\u001b[38;5;241;43m*\u001b[39;49m\u001b[43margs\u001b[49m\u001b[43m,\u001b[49m\u001b[43m \u001b[49m\u001b[38;5;241;43m*\u001b[39;49m\u001b[38;5;241;43m*\u001b[39;49m\u001b[43mkwargs\u001b[49m\u001b[43m)\u001b[49m\n\u001b[1;32m    148\u001b[0m \u001b[38;5;66;03m# restore current_fx when nested context\u001b[39;00m\n\u001b[1;32m    149\u001b[0m pl_module\u001b[38;5;241m.\u001b[39m_current_fx_name \u001b[38;5;241m=\u001b[39m prev_fx_name\n",
      "File \u001b[0;32m~/miniconda3/envs/scVI-arm64/lib/python3.9/site-packages/lightning/pytorch/core/module.py:1276\u001b[0m, in \u001b[0;36mLightningModule.optimizer_step\u001b[0;34m(self, epoch, batch_idx, optimizer, optimizer_closure)\u001b[0m\n\u001b[1;32m   1238\u001b[0m \u001b[38;5;28;01mdef\u001b[39;00m \u001b[38;5;21moptimizer_step\u001b[39m(\n\u001b[1;32m   1239\u001b[0m     \u001b[38;5;28mself\u001b[39m,\n\u001b[1;32m   1240\u001b[0m     epoch: \u001b[38;5;28mint\u001b[39m,\n\u001b[0;32m   (...)\u001b[0m\n\u001b[1;32m   1243\u001b[0m     optimizer_closure: Optional[Callable[[], Any]] \u001b[38;5;241m=\u001b[39m \u001b[38;5;28;01mNone\u001b[39;00m,\n\u001b[1;32m   1244\u001b[0m ) \u001b[38;5;241m-\u001b[39m\u001b[38;5;241m>\u001b[39m \u001b[38;5;28;01mNone\u001b[39;00m:\n\u001b[1;32m   1245\u001b[0m \u001b[38;5;250m    \u001b[39m\u001b[38;5;124mr\u001b[39m\u001b[38;5;124;03m\"\"\"Override this method to adjust the default way the :class:`~lightning.pytorch.trainer.trainer.Trainer`\u001b[39;00m\n\u001b[1;32m   1246\u001b[0m \u001b[38;5;124;03m    calls the optimizer.\u001b[39;00m\n\u001b[1;32m   1247\u001b[0m \n\u001b[0;32m   (...)\u001b[0m\n\u001b[1;32m   1274\u001b[0m \u001b[38;5;124;03m                    pg[\"lr\"] = lr_scale * self.learning_rate\u001b[39;00m\n\u001b[1;32m   1275\u001b[0m \u001b[38;5;124;03m    \"\"\"\u001b[39;00m\n\u001b[0;32m-> 1276\u001b[0m     \u001b[43moptimizer\u001b[49m\u001b[38;5;241;43m.\u001b[39;49m\u001b[43mstep\u001b[49m\u001b[43m(\u001b[49m\u001b[43mclosure\u001b[49m\u001b[38;5;241;43m=\u001b[39;49m\u001b[43moptimizer_closure\u001b[49m\u001b[43m)\u001b[49m\n",
      "File \u001b[0;32m~/miniconda3/envs/scVI-arm64/lib/python3.9/site-packages/lightning/pytorch/core/optimizer.py:161\u001b[0m, in \u001b[0;36mLightningOptimizer.step\u001b[0;34m(self, closure, **kwargs)\u001b[0m\n\u001b[1;32m    158\u001b[0m     \u001b[38;5;28;01mraise\u001b[39;00m MisconfigurationException(\u001b[38;5;124m\"\u001b[39m\u001b[38;5;124mWhen `optimizer.step(closure)` is called, the closure should be callable\u001b[39m\u001b[38;5;124m\"\u001b[39m)\n\u001b[1;32m    160\u001b[0m \u001b[38;5;28;01massert\u001b[39;00m \u001b[38;5;28mself\u001b[39m\u001b[38;5;241m.\u001b[39m_strategy \u001b[38;5;129;01mis\u001b[39;00m \u001b[38;5;129;01mnot\u001b[39;00m \u001b[38;5;28;01mNone\u001b[39;00m\n\u001b[0;32m--> 161\u001b[0m step_output \u001b[38;5;241m=\u001b[39m \u001b[38;5;28;43mself\u001b[39;49m\u001b[38;5;241;43m.\u001b[39;49m\u001b[43m_strategy\u001b[49m\u001b[38;5;241;43m.\u001b[39;49m\u001b[43moptimizer_step\u001b[49m\u001b[43m(\u001b[49m\u001b[38;5;28;43mself\u001b[39;49m\u001b[38;5;241;43m.\u001b[39;49m\u001b[43m_optimizer\u001b[49m\u001b[43m,\u001b[49m\u001b[43m \u001b[49m\u001b[43mclosure\u001b[49m\u001b[43m,\u001b[49m\u001b[43m \u001b[49m\u001b[38;5;241;43m*\u001b[39;49m\u001b[38;5;241;43m*\u001b[39;49m\u001b[43mkwargs\u001b[49m\u001b[43m)\u001b[49m\n\u001b[1;32m    163\u001b[0m \u001b[38;5;28mself\u001b[39m\u001b[38;5;241m.\u001b[39m_on_after_step()\n\u001b[1;32m    165\u001b[0m \u001b[38;5;28;01mreturn\u001b[39;00m step_output\n",
      "File \u001b[0;32m~/miniconda3/envs/scVI-arm64/lib/python3.9/site-packages/lightning/pytorch/strategies/strategy.py:231\u001b[0m, in \u001b[0;36mStrategy.optimizer_step\u001b[0;34m(self, optimizer, closure, model, **kwargs)\u001b[0m\n\u001b[1;32m    229\u001b[0m \u001b[38;5;66;03m# TODO(fabric): remove assertion once strategy's optimizer_step typing is fixed\u001b[39;00m\n\u001b[1;32m    230\u001b[0m \u001b[38;5;28;01massert\u001b[39;00m \u001b[38;5;28misinstance\u001b[39m(model, pl\u001b[38;5;241m.\u001b[39mLightningModule)\n\u001b[0;32m--> 231\u001b[0m \u001b[38;5;28;01mreturn\u001b[39;00m \u001b[38;5;28;43mself\u001b[39;49m\u001b[38;5;241;43m.\u001b[39;49m\u001b[43mprecision_plugin\u001b[49m\u001b[38;5;241;43m.\u001b[39;49m\u001b[43moptimizer_step\u001b[49m\u001b[43m(\u001b[49m\u001b[43moptimizer\u001b[49m\u001b[43m,\u001b[49m\u001b[43m \u001b[49m\u001b[43mmodel\u001b[49m\u001b[38;5;241;43m=\u001b[39;49m\u001b[43mmodel\u001b[49m\u001b[43m,\u001b[49m\u001b[43m \u001b[49m\u001b[43mclosure\u001b[49m\u001b[38;5;241;43m=\u001b[39;49m\u001b[43mclosure\u001b[49m\u001b[43m,\u001b[49m\u001b[43m \u001b[49m\u001b[38;5;241;43m*\u001b[39;49m\u001b[38;5;241;43m*\u001b[39;49m\u001b[43mkwargs\u001b[49m\u001b[43m)\u001b[49m\n",
      "File \u001b[0;32m~/miniconda3/envs/scVI-arm64/lib/python3.9/site-packages/lightning/pytorch/plugins/precision/precision_plugin.py:116\u001b[0m, in \u001b[0;36mPrecisionPlugin.optimizer_step\u001b[0;34m(self, optimizer, model, closure, **kwargs)\u001b[0m\n\u001b[1;32m    114\u001b[0m \u001b[38;5;250m\u001b[39m\u001b[38;5;124;03m\"\"\"Hook to run the optimizer step.\"\"\"\u001b[39;00m\n\u001b[1;32m    115\u001b[0m closure \u001b[38;5;241m=\u001b[39m partial(\u001b[38;5;28mself\u001b[39m\u001b[38;5;241m.\u001b[39m_wrap_closure, model, optimizer, closure)\n\u001b[0;32m--> 116\u001b[0m \u001b[38;5;28;01mreturn\u001b[39;00m \u001b[43moptimizer\u001b[49m\u001b[38;5;241;43m.\u001b[39;49m\u001b[43mstep\u001b[49m\u001b[43m(\u001b[49m\u001b[43mclosure\u001b[49m\u001b[38;5;241;43m=\u001b[39;49m\u001b[43mclosure\u001b[49m\u001b[43m,\u001b[49m\u001b[43m \u001b[49m\u001b[38;5;241;43m*\u001b[39;49m\u001b[38;5;241;43m*\u001b[39;49m\u001b[43mkwargs\u001b[49m\u001b[43m)\u001b[49m\n",
      "File \u001b[0;32m~/miniconda3/envs/scVI-arm64/lib/python3.9/site-packages/torch/optim/optimizer.py:373\u001b[0m, in \u001b[0;36mOptimizer.profile_hook_step.<locals>.wrapper\u001b[0;34m(*args, **kwargs)\u001b[0m\n\u001b[1;32m    368\u001b[0m         \u001b[38;5;28;01melse\u001b[39;00m:\n\u001b[1;32m    369\u001b[0m             \u001b[38;5;28;01mraise\u001b[39;00m \u001b[38;5;167;01mRuntimeError\u001b[39;00m(\n\u001b[1;32m    370\u001b[0m                 \u001b[38;5;124mf\u001b[39m\u001b[38;5;124m\"\u001b[39m\u001b[38;5;132;01m{\u001b[39;00mfunc\u001b[38;5;132;01m}\u001b[39;00m\u001b[38;5;124m must return None or a tuple of (new_args, new_kwargs), but got \u001b[39m\u001b[38;5;132;01m{\u001b[39;00mresult\u001b[38;5;132;01m}\u001b[39;00m\u001b[38;5;124m.\u001b[39m\u001b[38;5;124m\"\u001b[39m\n\u001b[1;32m    371\u001b[0m             )\n\u001b[0;32m--> 373\u001b[0m out \u001b[38;5;241m=\u001b[39m \u001b[43mfunc\u001b[49m\u001b[43m(\u001b[49m\u001b[38;5;241;43m*\u001b[39;49m\u001b[43margs\u001b[49m\u001b[43m,\u001b[49m\u001b[43m \u001b[49m\u001b[38;5;241;43m*\u001b[39;49m\u001b[38;5;241;43m*\u001b[39;49m\u001b[43mkwargs\u001b[49m\u001b[43m)\u001b[49m\n\u001b[1;32m    374\u001b[0m \u001b[38;5;28mself\u001b[39m\u001b[38;5;241m.\u001b[39m_optimizer_step_code()\n\u001b[1;32m    376\u001b[0m \u001b[38;5;66;03m# call optimizer step post hooks\u001b[39;00m\n",
      "File \u001b[0;32m~/miniconda3/envs/scVI-arm64/lib/python3.9/site-packages/torch/optim/optimizer.py:76\u001b[0m, in \u001b[0;36m_use_grad_for_differentiable.<locals>._use_grad\u001b[0;34m(self, *args, **kwargs)\u001b[0m\n\u001b[1;32m     74\u001b[0m     torch\u001b[38;5;241m.\u001b[39mset_grad_enabled(\u001b[38;5;28mself\u001b[39m\u001b[38;5;241m.\u001b[39mdefaults[\u001b[38;5;124m'\u001b[39m\u001b[38;5;124mdifferentiable\u001b[39m\u001b[38;5;124m'\u001b[39m])\n\u001b[1;32m     75\u001b[0m     torch\u001b[38;5;241m.\u001b[39m_dynamo\u001b[38;5;241m.\u001b[39mgraph_break()\n\u001b[0;32m---> 76\u001b[0m     ret \u001b[38;5;241m=\u001b[39m \u001b[43mfunc\u001b[49m\u001b[43m(\u001b[49m\u001b[38;5;28;43mself\u001b[39;49m\u001b[43m,\u001b[49m\u001b[43m \u001b[49m\u001b[38;5;241;43m*\u001b[39;49m\u001b[43margs\u001b[49m\u001b[43m,\u001b[49m\u001b[43m \u001b[49m\u001b[38;5;241;43m*\u001b[39;49m\u001b[38;5;241;43m*\u001b[39;49m\u001b[43mkwargs\u001b[49m\u001b[43m)\u001b[49m\n\u001b[1;32m     77\u001b[0m \u001b[38;5;28;01mfinally\u001b[39;00m:\n\u001b[1;32m     78\u001b[0m     torch\u001b[38;5;241m.\u001b[39m_dynamo\u001b[38;5;241m.\u001b[39mgraph_break()\n",
      "File \u001b[0;32m~/miniconda3/envs/scVI-arm64/lib/python3.9/site-packages/torch/optim/adam.py:146\u001b[0m, in \u001b[0;36mAdam.step\u001b[0;34m(self, closure)\u001b[0m\n\u001b[1;32m    144\u001b[0m \u001b[38;5;28;01mif\u001b[39;00m closure \u001b[38;5;129;01mis\u001b[39;00m \u001b[38;5;129;01mnot\u001b[39;00m \u001b[38;5;28;01mNone\u001b[39;00m:\n\u001b[1;32m    145\u001b[0m     \u001b[38;5;28;01mwith\u001b[39;00m torch\u001b[38;5;241m.\u001b[39menable_grad():\n\u001b[0;32m--> 146\u001b[0m         loss \u001b[38;5;241m=\u001b[39m \u001b[43mclosure\u001b[49m\u001b[43m(\u001b[49m\u001b[43m)\u001b[49m\n\u001b[1;32m    148\u001b[0m \u001b[38;5;28;01mfor\u001b[39;00m group \u001b[38;5;129;01min\u001b[39;00m \u001b[38;5;28mself\u001b[39m\u001b[38;5;241m.\u001b[39mparam_groups:\n\u001b[1;32m    149\u001b[0m     params_with_grad \u001b[38;5;241m=\u001b[39m []\n",
      "File \u001b[0;32m~/miniconda3/envs/scVI-arm64/lib/python3.9/site-packages/lightning/pytorch/plugins/precision/precision_plugin.py:103\u001b[0m, in \u001b[0;36mPrecisionPlugin._wrap_closure\u001b[0;34m(self, model, optimizer, closure)\u001b[0m\n\u001b[1;32m     91\u001b[0m \u001b[38;5;28;01mdef\u001b[39;00m \u001b[38;5;21m_wrap_closure\u001b[39m(\n\u001b[1;32m     92\u001b[0m     \u001b[38;5;28mself\u001b[39m,\n\u001b[1;32m     93\u001b[0m     model: \u001b[38;5;124m\"\u001b[39m\u001b[38;5;124mpl.LightningModule\u001b[39m\u001b[38;5;124m\"\u001b[39m,\n\u001b[1;32m     94\u001b[0m     optimizer: Optimizer,\n\u001b[1;32m     95\u001b[0m     closure: Callable[[], Any],\n\u001b[1;32m     96\u001b[0m ) \u001b[38;5;241m-\u001b[39m\u001b[38;5;241m>\u001b[39m Any:\n\u001b[1;32m     97\u001b[0m \u001b[38;5;250m    \u001b[39m\u001b[38;5;124;03m\"\"\"This double-closure allows makes sure the ``closure`` is executed before the\u001b[39;00m\n\u001b[1;32m     98\u001b[0m \u001b[38;5;124;03m    ``on_before_optimizer_step`` hook is called.\u001b[39;00m\n\u001b[1;32m     99\u001b[0m \n\u001b[1;32m    100\u001b[0m \u001b[38;5;124;03m    The closure (generally) runs ``backward`` so this allows inspecting gradients in this hook. This structure is\u001b[39;00m\n\u001b[1;32m    101\u001b[0m \u001b[38;5;124;03m    consistent with the ``PrecisionPlugin`` subclasses that cannot pass ``optimizer.step(closure)`` directly.\u001b[39;00m\n\u001b[1;32m    102\u001b[0m \u001b[38;5;124;03m    \"\"\"\u001b[39;00m\n\u001b[0;32m--> 103\u001b[0m     closure_result \u001b[38;5;241m=\u001b[39m \u001b[43mclosure\u001b[49m\u001b[43m(\u001b[49m\u001b[43m)\u001b[49m\n\u001b[1;32m    104\u001b[0m     \u001b[38;5;28mself\u001b[39m\u001b[38;5;241m.\u001b[39m_after_closure(model, optimizer)\n\u001b[1;32m    105\u001b[0m     \u001b[38;5;28;01mreturn\u001b[39;00m closure_result\n",
      "File \u001b[0;32m~/miniconda3/envs/scVI-arm64/lib/python3.9/site-packages/lightning/pytorch/loops/optimization/automatic.py:142\u001b[0m, in \u001b[0;36mClosure.__call__\u001b[0;34m(self, *args, **kwargs)\u001b[0m\n\u001b[1;32m    141\u001b[0m \u001b[38;5;28;01mdef\u001b[39;00m \u001b[38;5;21m__call__\u001b[39m(\u001b[38;5;28mself\u001b[39m, \u001b[38;5;241m*\u001b[39margs: Any, \u001b[38;5;241m*\u001b[39m\u001b[38;5;241m*\u001b[39mkwargs: Any) \u001b[38;5;241m-\u001b[39m\u001b[38;5;241m>\u001b[39m Optional[Tensor]:\n\u001b[0;32m--> 142\u001b[0m     \u001b[38;5;28mself\u001b[39m\u001b[38;5;241m.\u001b[39m_result \u001b[38;5;241m=\u001b[39m \u001b[38;5;28;43mself\u001b[39;49m\u001b[38;5;241;43m.\u001b[39;49m\u001b[43mclosure\u001b[49m\u001b[43m(\u001b[49m\u001b[38;5;241;43m*\u001b[39;49m\u001b[43margs\u001b[49m\u001b[43m,\u001b[49m\u001b[43m \u001b[49m\u001b[38;5;241;43m*\u001b[39;49m\u001b[38;5;241;43m*\u001b[39;49m\u001b[43mkwargs\u001b[49m\u001b[43m)\u001b[49m\n\u001b[1;32m    143\u001b[0m     \u001b[38;5;28;01mreturn\u001b[39;00m \u001b[38;5;28mself\u001b[39m\u001b[38;5;241m.\u001b[39m_result\u001b[38;5;241m.\u001b[39mloss\n",
      "File \u001b[0;32m~/miniconda3/envs/scVI-arm64/lib/python3.9/site-packages/torch/utils/_contextlib.py:115\u001b[0m, in \u001b[0;36mcontext_decorator.<locals>.decorate_context\u001b[0;34m(*args, **kwargs)\u001b[0m\n\u001b[1;32m    112\u001b[0m \u001b[38;5;129m@functools\u001b[39m\u001b[38;5;241m.\u001b[39mwraps(func)\n\u001b[1;32m    113\u001b[0m \u001b[38;5;28;01mdef\u001b[39;00m \u001b[38;5;21mdecorate_context\u001b[39m(\u001b[38;5;241m*\u001b[39margs, \u001b[38;5;241m*\u001b[39m\u001b[38;5;241m*\u001b[39mkwargs):\n\u001b[1;32m    114\u001b[0m     \u001b[38;5;28;01mwith\u001b[39;00m ctx_factory():\n\u001b[0;32m--> 115\u001b[0m         \u001b[38;5;28;01mreturn\u001b[39;00m \u001b[43mfunc\u001b[49m\u001b[43m(\u001b[49m\u001b[38;5;241;43m*\u001b[39;49m\u001b[43margs\u001b[49m\u001b[43m,\u001b[49m\u001b[43m \u001b[49m\u001b[38;5;241;43m*\u001b[39;49m\u001b[38;5;241;43m*\u001b[39;49m\u001b[43mkwargs\u001b[49m\u001b[43m)\u001b[49m\n",
      "File \u001b[0;32m~/miniconda3/envs/scVI-arm64/lib/python3.9/site-packages/lightning/pytorch/loops/optimization/automatic.py:128\u001b[0m, in \u001b[0;36mClosure.closure\u001b[0;34m(self, *args, **kwargs)\u001b[0m\n\u001b[1;32m    126\u001b[0m \u001b[38;5;129m@torch\u001b[39m\u001b[38;5;241m.\u001b[39menable_grad()\n\u001b[1;32m    127\u001b[0m \u001b[38;5;28;01mdef\u001b[39;00m \u001b[38;5;21mclosure\u001b[39m(\u001b[38;5;28mself\u001b[39m, \u001b[38;5;241m*\u001b[39margs: Any, \u001b[38;5;241m*\u001b[39m\u001b[38;5;241m*\u001b[39mkwargs: Any) \u001b[38;5;241m-\u001b[39m\u001b[38;5;241m>\u001b[39m ClosureResult:\n\u001b[0;32m--> 128\u001b[0m     step_output \u001b[38;5;241m=\u001b[39m \u001b[38;5;28;43mself\u001b[39;49m\u001b[38;5;241;43m.\u001b[39;49m\u001b[43m_step_fn\u001b[49m\u001b[43m(\u001b[49m\u001b[43m)\u001b[49m\n\u001b[1;32m    130\u001b[0m     \u001b[38;5;28;01mif\u001b[39;00m step_output\u001b[38;5;241m.\u001b[39mclosure_loss \u001b[38;5;129;01mis\u001b[39;00m \u001b[38;5;28;01mNone\u001b[39;00m:\n\u001b[1;32m    131\u001b[0m         \u001b[38;5;28mself\u001b[39m\u001b[38;5;241m.\u001b[39mwarning_cache\u001b[38;5;241m.\u001b[39mwarn(\u001b[38;5;124m\"\u001b[39m\u001b[38;5;124m`training_step` returned `None`. If this was on purpose, ignore this warning...\u001b[39m\u001b[38;5;124m\"\u001b[39m)\n",
      "File \u001b[0;32m~/miniconda3/envs/scVI-arm64/lib/python3.9/site-packages/lightning/pytorch/loops/optimization/automatic.py:315\u001b[0m, in \u001b[0;36m_AutomaticOptimization._training_step\u001b[0;34m(self, kwargs)\u001b[0m\n\u001b[1;32m    312\u001b[0m trainer \u001b[38;5;241m=\u001b[39m \u001b[38;5;28mself\u001b[39m\u001b[38;5;241m.\u001b[39mtrainer\n\u001b[1;32m    314\u001b[0m \u001b[38;5;66;03m# manually capture logged metrics\u001b[39;00m\n\u001b[0;32m--> 315\u001b[0m training_step_output \u001b[38;5;241m=\u001b[39m \u001b[43mcall\u001b[49m\u001b[38;5;241;43m.\u001b[39;49m\u001b[43m_call_strategy_hook\u001b[49m\u001b[43m(\u001b[49m\u001b[43mtrainer\u001b[49m\u001b[43m,\u001b[49m\u001b[43m \u001b[49m\u001b[38;5;124;43m\"\u001b[39;49m\u001b[38;5;124;43mtraining_step\u001b[39;49m\u001b[38;5;124;43m\"\u001b[39;49m\u001b[43m,\u001b[49m\u001b[43m \u001b[49m\u001b[38;5;241;43m*\u001b[39;49m\u001b[43mkwargs\u001b[49m\u001b[38;5;241;43m.\u001b[39;49m\u001b[43mvalues\u001b[49m\u001b[43m(\u001b[49m\u001b[43m)\u001b[49m\u001b[43m)\u001b[49m\n\u001b[1;32m    316\u001b[0m \u001b[38;5;28mself\u001b[39m\u001b[38;5;241m.\u001b[39mtrainer\u001b[38;5;241m.\u001b[39mstrategy\u001b[38;5;241m.\u001b[39mpost_training_step()\n\u001b[1;32m    318\u001b[0m \u001b[38;5;28;01mreturn\u001b[39;00m \u001b[38;5;28mself\u001b[39m\u001b[38;5;241m.\u001b[39moutput_result_cls\u001b[38;5;241m.\u001b[39mfrom_training_step_output(training_step_output, trainer\u001b[38;5;241m.\u001b[39maccumulate_grad_batches)\n",
      "File \u001b[0;32m~/miniconda3/envs/scVI-arm64/lib/python3.9/site-packages/lightning/pytorch/trainer/call.py:294\u001b[0m, in \u001b[0;36m_call_strategy_hook\u001b[0;34m(trainer, hook_name, *args, **kwargs)\u001b[0m\n\u001b[1;32m    291\u001b[0m     \u001b[38;5;28;01mreturn\u001b[39;00m \u001b[38;5;28;01mNone\u001b[39;00m\n\u001b[1;32m    293\u001b[0m \u001b[38;5;28;01mwith\u001b[39;00m trainer\u001b[38;5;241m.\u001b[39mprofiler\u001b[38;5;241m.\u001b[39mprofile(\u001b[38;5;124mf\u001b[39m\u001b[38;5;124m\"\u001b[39m\u001b[38;5;124m[Strategy]\u001b[39m\u001b[38;5;132;01m{\u001b[39;00mtrainer\u001b[38;5;241m.\u001b[39mstrategy\u001b[38;5;241m.\u001b[39m\u001b[38;5;18m__class__\u001b[39m\u001b[38;5;241m.\u001b[39m\u001b[38;5;18m__name__\u001b[39m\u001b[38;5;132;01m}\u001b[39;00m\u001b[38;5;124m.\u001b[39m\u001b[38;5;132;01m{\u001b[39;00mhook_name\u001b[38;5;132;01m}\u001b[39;00m\u001b[38;5;124m\"\u001b[39m):\n\u001b[0;32m--> 294\u001b[0m     output \u001b[38;5;241m=\u001b[39m \u001b[43mfn\u001b[49m\u001b[43m(\u001b[49m\u001b[38;5;241;43m*\u001b[39;49m\u001b[43margs\u001b[49m\u001b[43m,\u001b[49m\u001b[43m \u001b[49m\u001b[38;5;241;43m*\u001b[39;49m\u001b[38;5;241;43m*\u001b[39;49m\u001b[43mkwargs\u001b[49m\u001b[43m)\u001b[49m\n\u001b[1;32m    296\u001b[0m \u001b[38;5;66;03m# restore current_fx when nested context\u001b[39;00m\n\u001b[1;32m    297\u001b[0m pl_module\u001b[38;5;241m.\u001b[39m_current_fx_name \u001b[38;5;241m=\u001b[39m prev_fx_name\n",
      "File \u001b[0;32m~/miniconda3/envs/scVI-arm64/lib/python3.9/site-packages/lightning/pytorch/strategies/strategy.py:380\u001b[0m, in \u001b[0;36mStrategy.training_step\u001b[0;34m(self, *args, **kwargs)\u001b[0m\n\u001b[1;32m    378\u001b[0m \u001b[38;5;28;01mwith\u001b[39;00m \u001b[38;5;28mself\u001b[39m\u001b[38;5;241m.\u001b[39mprecision_plugin\u001b[38;5;241m.\u001b[39mtrain_step_context():\n\u001b[1;32m    379\u001b[0m     \u001b[38;5;28;01massert\u001b[39;00m \u001b[38;5;28misinstance\u001b[39m(\u001b[38;5;28mself\u001b[39m\u001b[38;5;241m.\u001b[39mmodel, TrainingStep)\n\u001b[0;32m--> 380\u001b[0m     \u001b[38;5;28;01mreturn\u001b[39;00m \u001b[38;5;28;43mself\u001b[39;49m\u001b[38;5;241;43m.\u001b[39;49m\u001b[43mmodel\u001b[49m\u001b[38;5;241;43m.\u001b[39;49m\u001b[43mtraining_step\u001b[49m\u001b[43m(\u001b[49m\u001b[38;5;241;43m*\u001b[39;49m\u001b[43margs\u001b[49m\u001b[43m,\u001b[49m\u001b[43m \u001b[49m\u001b[38;5;241;43m*\u001b[39;49m\u001b[38;5;241;43m*\u001b[39;49m\u001b[43mkwargs\u001b[49m\u001b[43m)\u001b[49m\n",
      "File \u001b[0;32m~/miniconda3/envs/scVI-arm64/lib/python3.9/site-packages/scvi/train/_trainingplans.py:797\u001b[0m, in \u001b[0;36mSemiSupervisedTrainingPlan.training_step\u001b[0;34m(self, batch, batch_idx)\u001b[0m\n\u001b[1;32m    792\u001b[0m input_kwargs \u001b[38;5;241m=\u001b[39m {\n\u001b[1;32m    793\u001b[0m     \u001b[38;5;124m\"\u001b[39m\u001b[38;5;124mfeed_labels\u001b[39m\u001b[38;5;124m\"\u001b[39m: \u001b[38;5;28;01mFalse\u001b[39;00m,\n\u001b[1;32m    794\u001b[0m     \u001b[38;5;124m\"\u001b[39m\u001b[38;5;124mlabelled_tensors\u001b[39m\u001b[38;5;124m\"\u001b[39m: labelled_dataset,\n\u001b[1;32m    795\u001b[0m }\n\u001b[1;32m    796\u001b[0m input_kwargs\u001b[38;5;241m.\u001b[39mupdate(\u001b[38;5;28mself\u001b[39m\u001b[38;5;241m.\u001b[39mloss_kwargs)\n\u001b[0;32m--> 797\u001b[0m _, _, loss_output \u001b[38;5;241m=\u001b[39m \u001b[38;5;28;43mself\u001b[39;49m\u001b[38;5;241;43m.\u001b[39;49m\u001b[43mforward\u001b[49m\u001b[43m(\u001b[49m\u001b[43mfull_dataset\u001b[49m\u001b[43m,\u001b[49m\u001b[43m \u001b[49m\u001b[43mloss_kwargs\u001b[49m\u001b[38;5;241;43m=\u001b[39;49m\u001b[43minput_kwargs\u001b[49m\u001b[43m)\u001b[49m\n\u001b[1;32m    798\u001b[0m loss \u001b[38;5;241m=\u001b[39m loss_output\u001b[38;5;241m.\u001b[39mloss\n\u001b[1;32m    799\u001b[0m \u001b[38;5;28mself\u001b[39m\u001b[38;5;241m.\u001b[39mlog(\n\u001b[1;32m    800\u001b[0m     \u001b[38;5;124m\"\u001b[39m\u001b[38;5;124mtrain_loss\u001b[39m\u001b[38;5;124m\"\u001b[39m,\n\u001b[1;32m    801\u001b[0m     loss,\n\u001b[0;32m   (...)\u001b[0m\n\u001b[1;32m    804\u001b[0m     prog_bar\u001b[38;5;241m=\u001b[39m\u001b[38;5;28;01mTrue\u001b[39;00m,\n\u001b[1;32m    805\u001b[0m )\n",
      "File \u001b[0;32m~/miniconda3/envs/scVI-arm64/lib/python3.9/site-packages/scvi/train/_trainingplans.py:278\u001b[0m, in \u001b[0;36mTrainingPlan.forward\u001b[0;34m(self, *args, **kwargs)\u001b[0m\n\u001b[1;32m    276\u001b[0m \u001b[38;5;28;01mdef\u001b[39;00m \u001b[38;5;21mforward\u001b[39m(\u001b[38;5;28mself\u001b[39m, \u001b[38;5;241m*\u001b[39margs, \u001b[38;5;241m*\u001b[39m\u001b[38;5;241m*\u001b[39mkwargs):\n\u001b[1;32m    277\u001b[0m \u001b[38;5;250m    \u001b[39m\u001b[38;5;124;03m\"\"\"Passthrough to the module's forward method.\"\"\"\u001b[39;00m\n\u001b[0;32m--> 278\u001b[0m     \u001b[38;5;28;01mreturn\u001b[39;00m \u001b[38;5;28;43mself\u001b[39;49m\u001b[38;5;241;43m.\u001b[39;49m\u001b[43mmodule\u001b[49m\u001b[43m(\u001b[49m\u001b[38;5;241;43m*\u001b[39;49m\u001b[43margs\u001b[49m\u001b[43m,\u001b[49m\u001b[43m \u001b[49m\u001b[38;5;241;43m*\u001b[39;49m\u001b[38;5;241;43m*\u001b[39;49m\u001b[43mkwargs\u001b[49m\u001b[43m)\u001b[49m\n",
      "File \u001b[0;32m~/miniconda3/envs/scVI-arm64/lib/python3.9/site-packages/torch/nn/modules/module.py:1519\u001b[0m, in \u001b[0;36mModule._wrapped_call_impl\u001b[0;34m(self, *args, **kwargs)\u001b[0m\n\u001b[1;32m   1517\u001b[0m     \u001b[38;5;28;01mreturn\u001b[39;00m \u001b[38;5;28mself\u001b[39m\u001b[38;5;241m.\u001b[39m_compiled_call_impl(\u001b[38;5;241m*\u001b[39margs, \u001b[38;5;241m*\u001b[39m\u001b[38;5;241m*\u001b[39mkwargs)  \u001b[38;5;66;03m# type: ignore[misc]\u001b[39;00m\n\u001b[1;32m   1518\u001b[0m \u001b[38;5;28;01melse\u001b[39;00m:\n\u001b[0;32m-> 1519\u001b[0m     \u001b[38;5;28;01mreturn\u001b[39;00m \u001b[38;5;28;43mself\u001b[39;49m\u001b[38;5;241;43m.\u001b[39;49m\u001b[43m_call_impl\u001b[49m\u001b[43m(\u001b[49m\u001b[38;5;241;43m*\u001b[39;49m\u001b[43margs\u001b[49m\u001b[43m,\u001b[49m\u001b[43m \u001b[49m\u001b[38;5;241;43m*\u001b[39;49m\u001b[38;5;241;43m*\u001b[39;49m\u001b[43mkwargs\u001b[49m\u001b[43m)\u001b[49m\n",
      "File \u001b[0;32m~/miniconda3/envs/scVI-arm64/lib/python3.9/site-packages/torch/nn/modules/module.py:1528\u001b[0m, in \u001b[0;36mModule._call_impl\u001b[0;34m(self, *args, **kwargs)\u001b[0m\n\u001b[1;32m   1523\u001b[0m \u001b[38;5;66;03m# If we don't have any hooks, we want to skip the rest of the logic in\u001b[39;00m\n\u001b[1;32m   1524\u001b[0m \u001b[38;5;66;03m# this function, and just call forward.\u001b[39;00m\n\u001b[1;32m   1525\u001b[0m \u001b[38;5;28;01mif\u001b[39;00m \u001b[38;5;129;01mnot\u001b[39;00m (\u001b[38;5;28mself\u001b[39m\u001b[38;5;241m.\u001b[39m_backward_hooks \u001b[38;5;129;01mor\u001b[39;00m \u001b[38;5;28mself\u001b[39m\u001b[38;5;241m.\u001b[39m_backward_pre_hooks \u001b[38;5;129;01mor\u001b[39;00m \u001b[38;5;28mself\u001b[39m\u001b[38;5;241m.\u001b[39m_forward_hooks \u001b[38;5;129;01mor\u001b[39;00m \u001b[38;5;28mself\u001b[39m\u001b[38;5;241m.\u001b[39m_forward_pre_hooks\n\u001b[1;32m   1526\u001b[0m         \u001b[38;5;129;01mor\u001b[39;00m _global_backward_pre_hooks \u001b[38;5;129;01mor\u001b[39;00m _global_backward_hooks\n\u001b[1;32m   1527\u001b[0m         \u001b[38;5;129;01mor\u001b[39;00m _global_forward_hooks \u001b[38;5;129;01mor\u001b[39;00m _global_forward_pre_hooks):\n\u001b[0;32m-> 1528\u001b[0m     \u001b[38;5;28;01mreturn\u001b[39;00m \u001b[43mforward_call\u001b[49m\u001b[43m(\u001b[49m\u001b[38;5;241;43m*\u001b[39;49m\u001b[43margs\u001b[49m\u001b[43m,\u001b[49m\u001b[43m \u001b[49m\u001b[38;5;241;43m*\u001b[39;49m\u001b[38;5;241;43m*\u001b[39;49m\u001b[43mkwargs\u001b[49m\u001b[43m)\u001b[49m\n\u001b[1;32m   1530\u001b[0m \u001b[38;5;28;01mtry\u001b[39;00m:\n\u001b[1;32m   1531\u001b[0m     result \u001b[38;5;241m=\u001b[39m \u001b[38;5;28;01mNone\u001b[39;00m\n",
      "File \u001b[0;32m~/miniconda3/envs/scVI-arm64/lib/python3.9/site-packages/scvi/module/base/_decorators.py:32\u001b[0m, in \u001b[0;36mauto_move_data.<locals>.auto_transfer_args\u001b[0;34m(self, *args, **kwargs)\u001b[0m\n\u001b[1;32m     30\u001b[0m \u001b[38;5;66;03m# decorator only necessary after training\u001b[39;00m\n\u001b[1;32m     31\u001b[0m \u001b[38;5;28;01mif\u001b[39;00m \u001b[38;5;28mself\u001b[39m\u001b[38;5;241m.\u001b[39mtraining:\n\u001b[0;32m---> 32\u001b[0m     \u001b[38;5;28;01mreturn\u001b[39;00m \u001b[43mfn\u001b[49m\u001b[43m(\u001b[49m\u001b[38;5;28;43mself\u001b[39;49m\u001b[43m,\u001b[49m\u001b[43m \u001b[49m\u001b[38;5;241;43m*\u001b[39;49m\u001b[43margs\u001b[49m\u001b[43m,\u001b[49m\u001b[43m \u001b[49m\u001b[38;5;241;43m*\u001b[39;49m\u001b[38;5;241;43m*\u001b[39;49m\u001b[43mkwargs\u001b[49m\u001b[43m)\u001b[49m\n\u001b[1;32m     34\u001b[0m device \u001b[38;5;241m=\u001b[39m \u001b[38;5;28mlist\u001b[39m({p\u001b[38;5;241m.\u001b[39mdevice \u001b[38;5;28;01mfor\u001b[39;00m p \u001b[38;5;129;01min\u001b[39;00m \u001b[38;5;28mself\u001b[39m\u001b[38;5;241m.\u001b[39mparameters()})\n\u001b[1;32m     35\u001b[0m \u001b[38;5;28;01mif\u001b[39;00m \u001b[38;5;28mlen\u001b[39m(device) \u001b[38;5;241m>\u001b[39m \u001b[38;5;241m1\u001b[39m:\n",
      "File \u001b[0;32m~/miniconda3/envs/scVI-arm64/lib/python3.9/site-packages/scvi/module/base/_base_module.py:205\u001b[0m, in \u001b[0;36mBaseModuleClass.forward\u001b[0;34m(self, tensors, get_inference_input_kwargs, get_generative_input_kwargs, inference_kwargs, generative_kwargs, loss_kwargs, compute_loss)\u001b[0m\n\u001b[1;32m    171\u001b[0m \u001b[38;5;129m@auto_move_data\u001b[39m\n\u001b[1;32m    172\u001b[0m \u001b[38;5;28;01mdef\u001b[39;00m \u001b[38;5;21mforward\u001b[39m(\n\u001b[1;32m    173\u001b[0m     \u001b[38;5;28mself\u001b[39m,\n\u001b[0;32m   (...)\u001b[0m\n\u001b[1;32m    183\u001b[0m     \u001b[38;5;241m|\u001b[39m \u001b[38;5;28mtuple\u001b[39m[torch\u001b[38;5;241m.\u001b[39mTensor, torch\u001b[38;5;241m.\u001b[39mTensor, LossOutput]\n\u001b[1;32m    184\u001b[0m ):\n\u001b[1;32m    185\u001b[0m \u001b[38;5;250m    \u001b[39m\u001b[38;5;124;03m\"\"\"Forward pass through the network.\u001b[39;00m\n\u001b[1;32m    186\u001b[0m \n\u001b[1;32m    187\u001b[0m \u001b[38;5;124;03m    Parameters\u001b[39;00m\n\u001b[0;32m   (...)\u001b[0m\n\u001b[1;32m    203\u001b[0m \u001b[38;5;124;03m        another return value.\u001b[39;00m\n\u001b[1;32m    204\u001b[0m \u001b[38;5;124;03m    \"\"\"\u001b[39;00m\n\u001b[0;32m--> 205\u001b[0m     \u001b[38;5;28;01mreturn\u001b[39;00m \u001b[43m_generic_forward\u001b[49m\u001b[43m(\u001b[49m\n\u001b[1;32m    206\u001b[0m \u001b[43m        \u001b[49m\u001b[38;5;28;43mself\u001b[39;49m\u001b[43m,\u001b[49m\n\u001b[1;32m    207\u001b[0m \u001b[43m        \u001b[49m\u001b[43mtensors\u001b[49m\u001b[43m,\u001b[49m\n\u001b[1;32m    208\u001b[0m \u001b[43m        \u001b[49m\u001b[43minference_kwargs\u001b[49m\u001b[43m,\u001b[49m\n\u001b[1;32m    209\u001b[0m \u001b[43m        \u001b[49m\u001b[43mgenerative_kwargs\u001b[49m\u001b[43m,\u001b[49m\n\u001b[1;32m    210\u001b[0m \u001b[43m        \u001b[49m\u001b[43mloss_kwargs\u001b[49m\u001b[43m,\u001b[49m\n\u001b[1;32m    211\u001b[0m \u001b[43m        \u001b[49m\u001b[43mget_inference_input_kwargs\u001b[49m\u001b[43m,\u001b[49m\n\u001b[1;32m    212\u001b[0m \u001b[43m        \u001b[49m\u001b[43mget_generative_input_kwargs\u001b[49m\u001b[43m,\u001b[49m\n\u001b[1;32m    213\u001b[0m \u001b[43m        \u001b[49m\u001b[43mcompute_loss\u001b[49m\u001b[43m,\u001b[49m\n\u001b[1;32m    214\u001b[0m \u001b[43m    \u001b[49m\u001b[43m)\u001b[49m\n",
      "File \u001b[0;32m~/miniconda3/envs/scVI-arm64/lib/python3.9/site-packages/scvi/module/base/_base_module.py:749\u001b[0m, in \u001b[0;36m_generic_forward\u001b[0;34m(module, tensors, inference_kwargs, generative_kwargs, loss_kwargs, get_inference_input_kwargs, get_generative_input_kwargs, compute_loss)\u001b[0m\n\u001b[1;32m    744\u001b[0m get_generative_input_kwargs \u001b[38;5;241m=\u001b[39m _get_dict_if_none(get_generative_input_kwargs)\n\u001b[1;32m    746\u001b[0m inference_inputs \u001b[38;5;241m=\u001b[39m module\u001b[38;5;241m.\u001b[39m_get_inference_input(\n\u001b[1;32m    747\u001b[0m     tensors, \u001b[38;5;241m*\u001b[39m\u001b[38;5;241m*\u001b[39mget_inference_input_kwargs\n\u001b[1;32m    748\u001b[0m )\n\u001b[0;32m--> 749\u001b[0m inference_outputs \u001b[38;5;241m=\u001b[39m \u001b[43mmodule\u001b[49m\u001b[38;5;241;43m.\u001b[39;49m\u001b[43minference\u001b[49m\u001b[43m(\u001b[49m\u001b[38;5;241;43m*\u001b[39;49m\u001b[38;5;241;43m*\u001b[39;49m\u001b[43minference_inputs\u001b[49m\u001b[43m,\u001b[49m\u001b[43m \u001b[49m\u001b[38;5;241;43m*\u001b[39;49m\u001b[38;5;241;43m*\u001b[39;49m\u001b[43minference_kwargs\u001b[49m\u001b[43m)\u001b[49m\n\u001b[1;32m    750\u001b[0m generative_inputs \u001b[38;5;241m=\u001b[39m module\u001b[38;5;241m.\u001b[39m_get_generative_input(\n\u001b[1;32m    751\u001b[0m     tensors, inference_outputs, \u001b[38;5;241m*\u001b[39m\u001b[38;5;241m*\u001b[39mget_generative_input_kwargs\n\u001b[1;32m    752\u001b[0m )\n\u001b[1;32m    753\u001b[0m generative_outputs \u001b[38;5;241m=\u001b[39m module\u001b[38;5;241m.\u001b[39mgenerative(\u001b[38;5;241m*\u001b[39m\u001b[38;5;241m*\u001b[39mgenerative_inputs, \u001b[38;5;241m*\u001b[39m\u001b[38;5;241m*\u001b[39mgenerative_kwargs)\n",
      "File \u001b[0;32m~/miniconda3/envs/scVI-arm64/lib/python3.9/site-packages/scvi/module/base/_decorators.py:32\u001b[0m, in \u001b[0;36mauto_move_data.<locals>.auto_transfer_args\u001b[0;34m(self, *args, **kwargs)\u001b[0m\n\u001b[1;32m     30\u001b[0m \u001b[38;5;66;03m# decorator only necessary after training\u001b[39;00m\n\u001b[1;32m     31\u001b[0m \u001b[38;5;28;01mif\u001b[39;00m \u001b[38;5;28mself\u001b[39m\u001b[38;5;241m.\u001b[39mtraining:\n\u001b[0;32m---> 32\u001b[0m     \u001b[38;5;28;01mreturn\u001b[39;00m \u001b[43mfn\u001b[49m\u001b[43m(\u001b[49m\u001b[38;5;28;43mself\u001b[39;49m\u001b[43m,\u001b[49m\u001b[43m \u001b[49m\u001b[38;5;241;43m*\u001b[39;49m\u001b[43margs\u001b[49m\u001b[43m,\u001b[49m\u001b[43m \u001b[49m\u001b[38;5;241;43m*\u001b[39;49m\u001b[38;5;241;43m*\u001b[39;49m\u001b[43mkwargs\u001b[49m\u001b[43m)\u001b[49m\n\u001b[1;32m     34\u001b[0m device \u001b[38;5;241m=\u001b[39m \u001b[38;5;28mlist\u001b[39m({p\u001b[38;5;241m.\u001b[39mdevice \u001b[38;5;28;01mfor\u001b[39;00m p \u001b[38;5;129;01min\u001b[39;00m \u001b[38;5;28mself\u001b[39m\u001b[38;5;241m.\u001b[39mparameters()})\n\u001b[1;32m     35\u001b[0m \u001b[38;5;28;01mif\u001b[39;00m \u001b[38;5;28mlen\u001b[39m(device) \u001b[38;5;241m>\u001b[39m \u001b[38;5;241m1\u001b[39m:\n",
      "File \u001b[0;32m~/miniconda3/envs/scVI-arm64/lib/python3.9/site-packages/scvi/module/base/_base_module.py:309\u001b[0m, in \u001b[0;36mBaseMinifiedModeModuleClass.inference\u001b[0;34m(self, *args, **kwargs)\u001b[0m\n\u001b[1;32m    307\u001b[0m     \u001b[38;5;28;01mreturn\u001b[39;00m \u001b[38;5;28mself\u001b[39m\u001b[38;5;241m.\u001b[39m_cached_inference(\u001b[38;5;241m*\u001b[39margs, \u001b[38;5;241m*\u001b[39m\u001b[38;5;241m*\u001b[39mkwargs)\n\u001b[1;32m    308\u001b[0m \u001b[38;5;28;01melse\u001b[39;00m:\n\u001b[0;32m--> 309\u001b[0m     \u001b[38;5;28;01mreturn\u001b[39;00m \u001b[38;5;28;43mself\u001b[39;49m\u001b[38;5;241;43m.\u001b[39;49m\u001b[43m_regular_inference\u001b[49m\u001b[43m(\u001b[49m\u001b[38;5;241;43m*\u001b[39;49m\u001b[43margs\u001b[49m\u001b[43m,\u001b[49m\u001b[43m \u001b[49m\u001b[38;5;241;43m*\u001b[39;49m\u001b[38;5;241;43m*\u001b[39;49m\u001b[43mkwargs\u001b[49m\u001b[43m)\u001b[49m\n",
      "File \u001b[0;32m~/miniconda3/envs/scVI-arm64/lib/python3.9/site-packages/scvi/module/base/_decorators.py:32\u001b[0m, in \u001b[0;36mauto_move_data.<locals>.auto_transfer_args\u001b[0;34m(self, *args, **kwargs)\u001b[0m\n\u001b[1;32m     30\u001b[0m \u001b[38;5;66;03m# decorator only necessary after training\u001b[39;00m\n\u001b[1;32m     31\u001b[0m \u001b[38;5;28;01mif\u001b[39;00m \u001b[38;5;28mself\u001b[39m\u001b[38;5;241m.\u001b[39mtraining:\n\u001b[0;32m---> 32\u001b[0m     \u001b[38;5;28;01mreturn\u001b[39;00m \u001b[43mfn\u001b[49m\u001b[43m(\u001b[49m\u001b[38;5;28;43mself\u001b[39;49m\u001b[43m,\u001b[49m\u001b[43m \u001b[49m\u001b[38;5;241;43m*\u001b[39;49m\u001b[43margs\u001b[49m\u001b[43m,\u001b[49m\u001b[43m \u001b[49m\u001b[38;5;241;43m*\u001b[39;49m\u001b[38;5;241;43m*\u001b[39;49m\u001b[43mkwargs\u001b[49m\u001b[43m)\u001b[49m\n\u001b[1;32m     34\u001b[0m device \u001b[38;5;241m=\u001b[39m \u001b[38;5;28mlist\u001b[39m({p\u001b[38;5;241m.\u001b[39mdevice \u001b[38;5;28;01mfor\u001b[39;00m p \u001b[38;5;129;01min\u001b[39;00m \u001b[38;5;28mself\u001b[39m\u001b[38;5;241m.\u001b[39mparameters()})\n\u001b[1;32m     35\u001b[0m \u001b[38;5;28;01mif\u001b[39;00m \u001b[38;5;28mlen\u001b[39m(device) \u001b[38;5;241m>\u001b[39m \u001b[38;5;241m1\u001b[39m:\n",
      "File \u001b[0;32m~/miniconda3/envs/scVI-arm64/lib/python3.9/site-packages/scvi/module/_vae.py:336\u001b[0m, in \u001b[0;36mVAE._regular_inference\u001b[0;34m(self, x, batch_index, cont_covs, cat_covs, n_samples)\u001b[0m\n\u001b[1;32m    334\u001b[0m \u001b[38;5;28;01melse\u001b[39;00m:\n\u001b[1;32m    335\u001b[0m     categorical_input \u001b[38;5;241m=\u001b[39m ()\n\u001b[0;32m--> 336\u001b[0m qz, z \u001b[38;5;241m=\u001b[39m \u001b[38;5;28;43mself\u001b[39;49m\u001b[38;5;241;43m.\u001b[39;49m\u001b[43mz_encoder\u001b[49m\u001b[43m(\u001b[49m\u001b[43mencoder_input\u001b[49m\u001b[43m,\u001b[49m\u001b[43m \u001b[49m\u001b[43mbatch_index\u001b[49m\u001b[43m,\u001b[49m\u001b[43m \u001b[49m\u001b[38;5;241;43m*\u001b[39;49m\u001b[43mcategorical_input\u001b[49m\u001b[43m)\u001b[49m\n\u001b[1;32m    337\u001b[0m ql \u001b[38;5;241m=\u001b[39m \u001b[38;5;28;01mNone\u001b[39;00m\n\u001b[1;32m    338\u001b[0m \u001b[38;5;28;01mif\u001b[39;00m \u001b[38;5;129;01mnot\u001b[39;00m \u001b[38;5;28mself\u001b[39m\u001b[38;5;241m.\u001b[39muse_observed_lib_size:\n",
      "File \u001b[0;32m~/miniconda3/envs/scVI-arm64/lib/python3.9/site-packages/torch/nn/modules/module.py:1519\u001b[0m, in \u001b[0;36mModule._wrapped_call_impl\u001b[0;34m(self, *args, **kwargs)\u001b[0m\n\u001b[1;32m   1517\u001b[0m     \u001b[38;5;28;01mreturn\u001b[39;00m \u001b[38;5;28mself\u001b[39m\u001b[38;5;241m.\u001b[39m_compiled_call_impl(\u001b[38;5;241m*\u001b[39margs, \u001b[38;5;241m*\u001b[39m\u001b[38;5;241m*\u001b[39mkwargs)  \u001b[38;5;66;03m# type: ignore[misc]\u001b[39;00m\n\u001b[1;32m   1518\u001b[0m \u001b[38;5;28;01melse\u001b[39;00m:\n\u001b[0;32m-> 1519\u001b[0m     \u001b[38;5;28;01mreturn\u001b[39;00m \u001b[38;5;28;43mself\u001b[39;49m\u001b[38;5;241;43m.\u001b[39;49m\u001b[43m_call_impl\u001b[49m\u001b[43m(\u001b[49m\u001b[38;5;241;43m*\u001b[39;49m\u001b[43margs\u001b[49m\u001b[43m,\u001b[49m\u001b[43m \u001b[49m\u001b[38;5;241;43m*\u001b[39;49m\u001b[38;5;241;43m*\u001b[39;49m\u001b[43mkwargs\u001b[49m\u001b[43m)\u001b[49m\n",
      "File \u001b[0;32m~/miniconda3/envs/scVI-arm64/lib/python3.9/site-packages/torch/nn/modules/module.py:1528\u001b[0m, in \u001b[0;36mModule._call_impl\u001b[0;34m(self, *args, **kwargs)\u001b[0m\n\u001b[1;32m   1523\u001b[0m \u001b[38;5;66;03m# If we don't have any hooks, we want to skip the rest of the logic in\u001b[39;00m\n\u001b[1;32m   1524\u001b[0m \u001b[38;5;66;03m# this function, and just call forward.\u001b[39;00m\n\u001b[1;32m   1525\u001b[0m \u001b[38;5;28;01mif\u001b[39;00m \u001b[38;5;129;01mnot\u001b[39;00m (\u001b[38;5;28mself\u001b[39m\u001b[38;5;241m.\u001b[39m_backward_hooks \u001b[38;5;129;01mor\u001b[39;00m \u001b[38;5;28mself\u001b[39m\u001b[38;5;241m.\u001b[39m_backward_pre_hooks \u001b[38;5;129;01mor\u001b[39;00m \u001b[38;5;28mself\u001b[39m\u001b[38;5;241m.\u001b[39m_forward_hooks \u001b[38;5;129;01mor\u001b[39;00m \u001b[38;5;28mself\u001b[39m\u001b[38;5;241m.\u001b[39m_forward_pre_hooks\n\u001b[1;32m   1526\u001b[0m         \u001b[38;5;129;01mor\u001b[39;00m _global_backward_pre_hooks \u001b[38;5;129;01mor\u001b[39;00m _global_backward_hooks\n\u001b[1;32m   1527\u001b[0m         \u001b[38;5;129;01mor\u001b[39;00m _global_forward_hooks \u001b[38;5;129;01mor\u001b[39;00m _global_forward_pre_hooks):\n\u001b[0;32m-> 1528\u001b[0m     \u001b[38;5;28;01mreturn\u001b[39;00m \u001b[43mforward_call\u001b[49m\u001b[43m(\u001b[49m\u001b[38;5;241;43m*\u001b[39;49m\u001b[43margs\u001b[49m\u001b[43m,\u001b[49m\u001b[43m \u001b[49m\u001b[38;5;241;43m*\u001b[39;49m\u001b[38;5;241;43m*\u001b[39;49m\u001b[43mkwargs\u001b[49m\u001b[43m)\u001b[49m\n\u001b[1;32m   1530\u001b[0m \u001b[38;5;28;01mtry\u001b[39;00m:\n\u001b[1;32m   1531\u001b[0m     result \u001b[38;5;241m=\u001b[39m \u001b[38;5;28;01mNone\u001b[39;00m\n",
      "File \u001b[0;32m~/miniconda3/envs/scVI-arm64/lib/python3.9/site-packages/scvi/nn/_base_components.py:289\u001b[0m, in \u001b[0;36mEncoder.forward\u001b[0;34m(self, x, *cat_list)\u001b[0m\n\u001b[1;32m    287\u001b[0m q_m \u001b[38;5;241m=\u001b[39m \u001b[38;5;28mself\u001b[39m\u001b[38;5;241m.\u001b[39mmean_encoder(q)\n\u001b[1;32m    288\u001b[0m q_v \u001b[38;5;241m=\u001b[39m \u001b[38;5;28mself\u001b[39m\u001b[38;5;241m.\u001b[39mvar_activation(\u001b[38;5;28mself\u001b[39m\u001b[38;5;241m.\u001b[39mvar_encoder(q)) \u001b[38;5;241m+\u001b[39m \u001b[38;5;28mself\u001b[39m\u001b[38;5;241m.\u001b[39mvar_eps\n\u001b[0;32m--> 289\u001b[0m dist \u001b[38;5;241m=\u001b[39m \u001b[43mNormal\u001b[49m\u001b[43m(\u001b[49m\u001b[43mq_m\u001b[49m\u001b[43m,\u001b[49m\u001b[43m \u001b[49m\u001b[43mq_v\u001b[49m\u001b[38;5;241;43m.\u001b[39;49m\u001b[43msqrt\u001b[49m\u001b[43m(\u001b[49m\u001b[43m)\u001b[49m\u001b[43m)\u001b[49m\n\u001b[1;32m    290\u001b[0m latent \u001b[38;5;241m=\u001b[39m \u001b[38;5;28mself\u001b[39m\u001b[38;5;241m.\u001b[39mz_transformation(dist\u001b[38;5;241m.\u001b[39mrsample())\n\u001b[1;32m    291\u001b[0m \u001b[38;5;28;01mif\u001b[39;00m \u001b[38;5;28mself\u001b[39m\u001b[38;5;241m.\u001b[39mreturn_dist:\n",
      "File \u001b[0;32m~/miniconda3/envs/scVI-arm64/lib/python3.9/site-packages/torch/distributions/normal.py:56\u001b[0m, in \u001b[0;36mNormal.__init__\u001b[0;34m(self, loc, scale, validate_args)\u001b[0m\n\u001b[1;32m     54\u001b[0m \u001b[38;5;28;01melse\u001b[39;00m:\n\u001b[1;32m     55\u001b[0m     batch_shape \u001b[38;5;241m=\u001b[39m \u001b[38;5;28mself\u001b[39m\u001b[38;5;241m.\u001b[39mloc\u001b[38;5;241m.\u001b[39msize()\n\u001b[0;32m---> 56\u001b[0m \u001b[38;5;28;43msuper\u001b[39;49m\u001b[43m(\u001b[49m\u001b[43m)\u001b[49m\u001b[38;5;241;43m.\u001b[39;49m\u001b[38;5;21;43m__init__\u001b[39;49m\u001b[43m(\u001b[49m\u001b[43mbatch_shape\u001b[49m\u001b[43m,\u001b[49m\u001b[43m \u001b[49m\u001b[43mvalidate_args\u001b[49m\u001b[38;5;241;43m=\u001b[39;49m\u001b[43mvalidate_args\u001b[49m\u001b[43m)\u001b[49m\n",
      "File \u001b[0;32m~/miniconda3/envs/scVI-arm64/lib/python3.9/site-packages/torch/distributions/distribution.py:68\u001b[0m, in \u001b[0;36mDistribution.__init__\u001b[0;34m(self, batch_shape, event_shape, validate_args)\u001b[0m\n\u001b[1;32m     66\u001b[0m         valid \u001b[38;5;241m=\u001b[39m constraint\u001b[38;5;241m.\u001b[39mcheck(value)\n\u001b[1;32m     67\u001b[0m         \u001b[38;5;28;01mif\u001b[39;00m \u001b[38;5;129;01mnot\u001b[39;00m valid\u001b[38;5;241m.\u001b[39mall():\n\u001b[0;32m---> 68\u001b[0m             \u001b[38;5;28;01mraise\u001b[39;00m \u001b[38;5;167;01mValueError\u001b[39;00m(\n\u001b[1;32m     69\u001b[0m                 \u001b[38;5;124mf\u001b[39m\u001b[38;5;124m\"\u001b[39m\u001b[38;5;124mExpected parameter \u001b[39m\u001b[38;5;132;01m{\u001b[39;00mparam\u001b[38;5;132;01m}\u001b[39;00m\u001b[38;5;124m \u001b[39m\u001b[38;5;124m\"\u001b[39m\n\u001b[1;32m     70\u001b[0m                 \u001b[38;5;124mf\u001b[39m\u001b[38;5;124m\"\u001b[39m\u001b[38;5;124m(\u001b[39m\u001b[38;5;132;01m{\u001b[39;00m\u001b[38;5;28mtype\u001b[39m(value)\u001b[38;5;241m.\u001b[39m\u001b[38;5;18m__name__\u001b[39m\u001b[38;5;132;01m}\u001b[39;00m\u001b[38;5;124m of shape \u001b[39m\u001b[38;5;132;01m{\u001b[39;00m\u001b[38;5;28mtuple\u001b[39m(value\u001b[38;5;241m.\u001b[39mshape)\u001b[38;5;132;01m}\u001b[39;00m\u001b[38;5;124m) \u001b[39m\u001b[38;5;124m\"\u001b[39m\n\u001b[1;32m     71\u001b[0m                 \u001b[38;5;124mf\u001b[39m\u001b[38;5;124m\"\u001b[39m\u001b[38;5;124mof distribution \u001b[39m\u001b[38;5;132;01m{\u001b[39;00m\u001b[38;5;28mrepr\u001b[39m(\u001b[38;5;28mself\u001b[39m)\u001b[38;5;132;01m}\u001b[39;00m\u001b[38;5;124m \u001b[39m\u001b[38;5;124m\"\u001b[39m\n\u001b[1;32m     72\u001b[0m                 \u001b[38;5;124mf\u001b[39m\u001b[38;5;124m\"\u001b[39m\u001b[38;5;124mto satisfy the constraint \u001b[39m\u001b[38;5;132;01m{\u001b[39;00m\u001b[38;5;28mrepr\u001b[39m(constraint)\u001b[38;5;132;01m}\u001b[39;00m\u001b[38;5;124m, \u001b[39m\u001b[38;5;124m\"\u001b[39m\n\u001b[1;32m     73\u001b[0m                 \u001b[38;5;124mf\u001b[39m\u001b[38;5;124m\"\u001b[39m\u001b[38;5;124mbut found invalid values:\u001b[39m\u001b[38;5;130;01m\\n\u001b[39;00m\u001b[38;5;132;01m{\u001b[39;00mvalue\u001b[38;5;132;01m}\u001b[39;00m\u001b[38;5;124m\"\u001b[39m\n\u001b[1;32m     74\u001b[0m             )\n\u001b[1;32m     75\u001b[0m \u001b[38;5;28msuper\u001b[39m()\u001b[38;5;241m.\u001b[39m\u001b[38;5;21m__init__\u001b[39m()\n",
      "\u001b[0;31mValueError\u001b[0m: Expected parameter loc (Tensor of shape (128, 10)) of distribution Normal(loc: torch.Size([128, 10]), scale: torch.Size([128, 10])) to satisfy the constraint Real(), but found invalid values:\ntensor([[nan, nan, nan,  ..., nan, nan, nan],\n        [nan, nan, nan,  ..., nan, nan, nan],\n        [nan, nan, nan,  ..., nan, nan, nan],\n        ...,\n        [nan, nan, nan,  ..., nan, nan, nan],\n        [nan, nan, nan,  ..., nan, nan, nan],\n        [nan, nan, nan,  ..., nan, nan, nan]], device='mps:0',\n       grad_fn=<LinearBackward0>)"
     ]
    }
   ],
   "source": [
    "model_ref = scvi.model.SCANVI(ref2)\n",
    "model_ref.train(accelerator=\"mps\")"
   ]
  },
  {
   "cell_type": "markdown",
   "id": "4506a384-5933-4c83-b929-f1ce2636ad6e",
   "metadata": {},
   "source": [
    "#### (Optional) Re-train the reference model on prostate scRNA-seq data"
   ]
  },
  {
   "cell_type": "markdown",
   "id": "a476fec8-85d5-4640-9787-cb8d53fe6952",
   "metadata": {},
   "source": [
    "Re-train the model on scRNA-seq data did not help with reducing the batch effect of the spatial Slide-seqV2 data. So we proceed with the original hub model."
   ]
  },
  {
   "cell_type": "code",
   "execution_count": null,
   "id": "780a71fe-566f-4de5-ac48-072db05436ad",
   "metadata": {},
   "outputs": [],
   "source": [
    "# model_ref = scvi.model.SCVI.load_query_data(\n",
    "#     scref,\n",
    "#     model_ref,\n",
    "#     unfrozen=True,\n",
    "# )\n",
    "# model_ref.train(max_epochs=100, accelerator='cpu')"
   ]
  },
  {
   "cell_type": "markdown",
   "id": "d4be8049-deea-48ca-8ec7-9c5d729b9da5",
   "metadata": {},
   "source": [
    "#### Continue with the new prostate scRNA-seq data"
   ]
  },
  {
   "cell_type": "code",
   "execution_count": null,
   "id": "b7331d47-42ff-4f58-b50c-f0bd8741267a",
   "metadata": {},
   "outputs": [],
   "source": [
    "model_ref = scvi.model.SCVI.load_query_data(\n",
    "    scref,\n",
    "    model_ref,\n",
    "    unfrozen=True,\n",
    ")\n",
    "model_ref.is_trained_ = True"
   ]
  },
  {
   "cell_type": "markdown",
   "id": "b819029e-48bb-48f5-925a-e6226067c92b",
   "metadata": {},
   "source": [
    "#### UMAP visualization"
   ]
  },
  {
   "cell_type": "code",
   "execution_count": null,
   "id": "bac4b89e-a197-455f-9676-057a55ec2374",
   "metadata": {},
   "outputs": [],
   "source": [
    "scref.obsm['X_scvi'] = model_ref.get_latent_representation()\n",
    "sc.pp.neighbors(scref, use_rep=\"X_scvi\")\n",
    "sc.tl.umap(scref)\n",
    "scref.obsm[\"X_umap_scvi\"] = scref.obsm['X_umap'].copy()"
   ]
  },
  {
   "cell_type": "code",
   "execution_count": null,
   "id": "2c753431-d42b-4c8a-bb39-687c860cc4a6",
   "metadata": {},
   "outputs": [],
   "source": [
    "with plt.rc_context({\"figure.figsize\": (3, 3)}):\n",
    "    sc.pl.embedding(\n",
    "        scref, basis='X_umap_scvi', \n",
    "        color=['compartment', 'cell_type', 'donor_assay']\n",
    "    ),\n",
    "    sc.pl.embedding(\n",
    "        scref, basis='X_umap_orig', \n",
    "        color=['compartment', 'cell_type', 'donor_assay']\n",
    "    )"
   ]
  },
  {
   "cell_type": "markdown",
   "id": "2fa3bf8e-5c22-4f63-8bf5-cb4fe09ca36b",
   "metadata": {},
   "source": [
    "### Load ST data (healthy patient HP1)"
   ]
  },
  {
   "cell_type": "code",
   "execution_count": null,
   "id": "8444e95f-5a54-4fbf-bc3c-195c20998bc7",
   "metadata": {},
   "outputs": [],
   "source": [
    "st = sc.read_h5ad(f\"{DATA_DIR}/ST_HP1.h5ad\")\n",
    "st.layers['raw'] = st.X.copy()\n",
    "st.obsm['spatial'] = st.obs[['xcoord', 'ycoord']].values\n",
    "st.obs['donor_assay'] = st.obs['batch']\n",
    "st.obs['cell_ontology_class'] = \"unlabeled\""
   ]
  },
  {
   "cell_type": "code",
   "execution_count": null,
   "id": "f555a6ed-b5b1-4403-af4c-1d310b963605",
   "metadata": {},
   "outputs": [],
   "source": [
    "with plt.rc_context({\"figure.figsize\": (3, 3)}):\n",
    "    sc.pl.embedding(\n",
    "        st, basis='spatial', \n",
    "        color=['cell1', 'cell2']\n",
    "    )"
   ]
  },
  {
   "cell_type": "markdown",
   "id": "33d99689-4f73-4aaf-bbeb-29781bb330a6",
   "metadata": {},
   "source": [
    "### RNA-only Finetuning"
   ]
  },
  {
   "cell_type": "markdown",
   "id": "1bc96a17-1df2-401f-9b3f-c70e6a1351b0",
   "metadata": {},
   "source": [
    "Need to set 'unfrozen=True' to fit the ST data as much as possible. Otherwise the encoder will fail to capture structures in the new data and the batch effect will be even stronger."
   ]
  },
  {
   "cell_type": "markdown",
   "id": "067e8bb6-0069-462f-b2a9-cf909f378206",
   "metadata": {},
   "source": [
    "#### Training"
   ]
  },
  {
   "cell_type": "code",
   "execution_count": null,
   "id": "9e413bc8-0fcb-4b8b-853d-66f469e82936",
   "metadata": {},
   "outputs": [],
   "source": [
    "st_rna = scvi.model.SCVI.prepare_query_anndata(st, model_ref, inplace=False)"
   ]
  },
  {
   "cell_type": "code",
   "execution_count": null,
   "id": "76ecf119-e92f-4b0a-bd47-c5eb0b362b02",
   "metadata": {},
   "outputs": [],
   "source": [
    "model_q = scvi.model.SCVI.load_query_data(\n",
    "    st_rna,\n",
    "    model_ref,\n",
    "    unfrozen=True,\n",
    ")"
   ]
  },
  {
   "cell_type": "code",
   "execution_count": null,
   "id": "31cb89ab-5331-41b0-a1b5-a04c4705ffd3",
   "metadata": {},
   "outputs": [],
   "source": [
    "model_q.train(max_epochs=100, accelerator='cpu', plan_kwargs=dict(weight_decay=0.0))"
   ]
  },
  {
   "cell_type": "code",
   "execution_count": null,
   "id": "98891923-4131-47e5-becf-97e8e5dad8b3",
   "metadata": {},
   "outputs": [],
   "source": [
    "dir_path = f\"{RES_DIR}/scvi_st_finetuned_unfrozen/\"\n",
    "model_q.save(dir_path, overwrite=True)"
   ]
  },
  {
   "cell_type": "markdown",
   "id": "b7adb797-0798-4a65-9160-2901648506fe",
   "metadata": {},
   "source": [
    "#### Reload the fine-tuned model"
   ]
  },
  {
   "cell_type": "code",
   "execution_count": null,
   "id": "cfbf6102-67f4-4843-8c92-094865926bd2",
   "metadata": {},
   "outputs": [],
   "source": [
    "dir_path = f\"{RES_DIR}/scvi_st_finetuned_unfrozen/\"\n",
    "model_q = scvi.model.SCVI.load(dir_path, st_rna)"
   ]
  },
  {
   "cell_type": "markdown",
   "id": "2133970c-bfb1-4894-9096-394f7e59cc6b",
   "metadata": {},
   "source": [
    "#### UMAP visualization"
   ]
  },
  {
   "cell_type": "code",
   "execution_count": null,
   "id": "e766c730-9a63-4848-8947-8f40946f78bf",
   "metadata": {},
   "outputs": [],
   "source": [
    "st.obsm[\"X_scvi\"] = model_q.get_latent_representation()\n",
    "sc.pp.neighbors(st, use_rep=\"X_scvi\")\n",
    "sc.tl.leiden(st, key_added='leiden_scvi')\n",
    "sc.tl.umap(st)\n",
    "st.obsm[\"X_umap_scvi\"] = st.obsm['X_umap'].copy()"
   ]
  },
  {
   "cell_type": "code",
   "execution_count": null,
   "id": "b0bd1747-a3cf-46f8-80e9-5450effecd3b",
   "metadata": {},
   "outputs": [],
   "source": [
    "with plt.rc_context({\"figure.figsize\": (3, 3)}):\n",
    "    sc.pl.umap(st, color = ['cell1', 'cell2', 'xcoord', 'ycoord'], ncols=2)"
   ]
  },
  {
   "cell_type": "code",
   "execution_count": null,
   "id": "d6925f1a-c68d-46db-9dcb-69e5b5a93f61",
   "metadata": {},
   "outputs": [],
   "source": [
    "with plt.rc_context({\"figure.figsize\": (3, 3)}):\n",
    "    sc.pl.embedding(st, basis='spatial', color = ['leiden_scvi'])"
   ]
  },
  {
   "cell_type": "markdown",
   "id": "6a91c3db-8a85-4dc7-a15d-70cf4c2ae678",
   "metadata": {},
   "source": [
    "### SpatialVAE"
   ]
  },
  {
   "cell_type": "markdown",
   "id": "7f021876-ec88-42cd-96cf-902c8b33785d",
   "metadata": {},
   "source": [
    "#### Preprocess ST data"
   ]
  },
  {
   "cell_type": "code",
   "execution_count": null,
   "id": "ecf17d8e-4568-4ccd-bebb-c2e1346cf19f",
   "metadata": {},
   "outputs": [],
   "source": [
    "st_sp = st.copy()\n",
    "\n",
    "sc.pp.normalize_total(st_sp, target_sum=1e4)\n",
    "sc.pp.log1p(st_sp)\n",
    "st_sp.layers['log1p'] = st_sp.X.copy()\n",
    "sc.pp.highly_variable_genes(\n",
    "    st_sp, subset=False, n_top_genes=2000, layer=\"log1p\"\n",
    ")\n",
    "\n",
    "# remember to switch to the raw counts data\n",
    "st_sp.X = st_sp.layers['raw']"
   ]
  },
  {
   "cell_type": "markdown",
   "id": "df3bf3b6-2345-4312-b5ae-c9e32194acaa",
   "metadata": {},
   "source": [
    "#### Calculate spatial losses"
   ]
  },
  {
   "cell_type": "code",
   "execution_count": null,
   "id": "a18c2538-b25d-4f86-a498-e511985832cd",
   "metadata": {},
   "outputs": [],
   "source": [
    "y = st_sp.layers['log1p'][:, st_sp.var['highly_variable']].toarray()\n",
    "y = torch.tensor(y).T\n",
    "coords = st_sp.obsm['spatial']\n",
    "\n",
    "weights = SpatialWeightMatrix()\n",
    "weights.calc_weights_knn(coords)\n",
    "weights.scale_by_expr(y)\n",
    "\n",
    "# prepare spatial loss\n",
    "sp_loss = SpatialLoss('icar', weights, 0.99, standardize_cov=False)\n",
    "cont_sp_loss = ContrastiveSpatialLoss('icar', weights, 0.99, standardize_cov=False)"
   ]
  },
  {
   "cell_type": "markdown",
   "id": "a87f6a00-5bb2-4fb1-b11d-9088285da769",
   "metadata": {},
   "source": [
    "#### Transfer from the RNA-only SCVI model and train"
   ]
  },
  {
   "cell_type": "markdown",
   "id": "52052656-a845-45b0-b3af-d6a26aac46bc",
   "metadata": {},
   "source": [
    "Again, unfroze the model to allow parameter adaptation under the spatial loss."
   ]
  },
  {
   "cell_type": "code",
   "execution_count": null,
   "id": "3f9235fd-5f44-4950-8330-230e4319ae3a",
   "metadata": {},
   "outputs": [],
   "source": [
    "# this step can be skipped since \n",
    "# SpatialVAE.from_rna_model will automatically prepare the query adata\n",
    "st_sp = scvi.model.SCVI.prepare_query_anndata(st_sp, model_q, inplace=False)"
   ]
  },
  {
   "cell_type": "code",
   "execution_count": null,
   "id": "3d100137-7f12-4f0d-bc00-a5602db252c1",
   "metadata": {},
   "outputs": [],
   "source": [
    "model_sp = SpatialVAE.from_rna_model(\n",
    "    st_sp, model_q, spatial_loss=sp_loss, lambda_spatial_loss=0.01,\n",
    "    unfrozen=True,\n",
    ")"
   ]
  },
  {
   "cell_type": "code",
   "execution_count": null,
   "id": "41bf465b-d326-4ade-9c1b-a424dd901d73",
   "metadata": {},
   "outputs": [],
   "source": [
    "model_sp.train(max_epochs=100, accelerator='cpu', plan_kwargs=dict(weight_decay=0.0))"
   ]
  },
  {
   "cell_type": "code",
   "execution_count": null,
   "id": "053a1e8c-70b0-4a5f-a2a7-c98bc66bd82b",
   "metadata": {},
   "outputs": [],
   "source": [
    "dir_path = f\"{RES_DIR}/spvae_st_finetuned_unfrozen/\"\n",
    "model_sp.save(dir_path, overwrite=True)"
   ]
  },
  {
   "cell_type": "markdown",
   "id": "f9f04e54-0ad0-4877-a5d1-2654427fba8a",
   "metadata": {},
   "source": [
    "#### Reload SpatialVAE model"
   ]
  },
  {
   "cell_type": "code",
   "execution_count": null,
   "id": "b2d52471-95b0-446d-b034-a89788d0701a",
   "metadata": {},
   "outputs": [],
   "source": [
    "dir_path = dir_path = f\"{RES_DIR}/spvae_st_finetuned_unfrozen/\"\n",
    "model_sp = SpatialVAE.load(dir_path, st_sp)"
   ]
  },
  {
   "cell_type": "markdown",
   "id": "2edb9da5-1da4-4af5-8b54-2e0d04c5177f",
   "metadata": {},
   "source": [
    "#### UMAP visualization"
   ]
  },
  {
   "cell_type": "code",
   "execution_count": null,
   "id": "e45bc8e6-6908-41d7-a078-7d30fa2af32d",
   "metadata": {},
   "outputs": [],
   "source": [
    "st.obsm['X_spvae'] = model_sp.get_latent_representation()\n",
    "sc.pp.neighbors(st, use_rep=\"X_spvae\")\n",
    "sc.tl.leiden(st, key_added='leiden_spvae', resolution=0.5)\n",
    "sc.tl.umap(st)\n",
    "st.obsm['X_umap_spvae'] = st.obsm['X_umap'].copy()"
   ]
  },
  {
   "cell_type": "code",
   "execution_count": null,
   "id": "8279e8ba-332c-4510-b108-ccf59f4eb450",
   "metadata": {},
   "outputs": [],
   "source": [
    "with plt.rc_context({\"figure.figsize\": (3, 3)}):\n",
    "    sc.pl.embedding(st, basis='X_umap_spvae', color=['cell1', 'cell2'])"
   ]
  },
  {
   "cell_type": "code",
   "execution_count": null,
   "id": "d6410da9-af73-427f-bd1c-a1cc5835fbd9",
   "metadata": {},
   "outputs": [],
   "source": [
    "with plt.rc_context({\"figure.figsize\": (3, 3)}):\n",
    "    sc.pl.embedding(st, basis='X_umap_scvi', color=['xcoord', 'ycoord'])\n",
    "    sc.pl.embedding(st, basis='X_umap_spvae', color=['xcoord', 'ycoord'])"
   ]
  },
  {
   "cell_type": "code",
   "execution_count": null,
   "id": "3b8156bc-fc17-4b7a-b428-51e6b020fe05",
   "metadata": {},
   "outputs": [],
   "source": [
    "normalized_x = (st.obs['xcoord'] - st.obs['xcoord'].min()) / (st.obs['xcoord'].max() - st.obs['xcoord'].min())\n",
    "normalized_y = (st.obs['ycoord'] - st.obs['ycoord'].min()) / (st.obs['ycoord'].max() - st.obs['ycoord'].min())\n",
    "_df = pd.DataFrame(\n",
    "    {'x':st.obsm['X_umap_scvi'][:,0],\n",
    "     'y':st.obsm['X_umap_scvi'][:,1],\n",
    "     'color': list(zip(normalized_x, normalized_y, [0] * st.shape[0])),\n",
    "     #'color': list(zip(normalized_x, normalized_y, (normalized_x + normalized_y)/2))\n",
    "    }\n",
    ")\n",
    "\n",
    "with plt.rc_context({\"figure.figsize\": (3, 3)}):\n",
    "    plt.scatter(_df['x'], _df['y'], c=_df['color'], s = 0.5)\n",
    "    plt.show()"
   ]
  },
  {
   "cell_type": "code",
   "execution_count": null,
   "id": "3f4e5ccc-d2ec-4434-b104-33431d24d7ca",
   "metadata": {},
   "outputs": [],
   "source": [
    "normalized_x = (st.obs['xcoord'] - st.obs['xcoord'].min()) / (st.obs['xcoord'].max() - st.obs['xcoord'].min())\n",
    "normalized_y = (st.obs['ycoord'] - st.obs['ycoord'].min()) / (st.obs['ycoord'].max() - st.obs['ycoord'].min())\n",
    "_df = pd.DataFrame(\n",
    "    {'x':st.obsm['X_umap_spvae'][:,0],\n",
    "     'y':st.obsm['X_umap_spvae'][:,1],\n",
    "     'color': list(zip(normalized_x, normalized_y, [0] * st.shape[0])),\n",
    "     #'color': list(zip(normalized_x, normalized_y, (normalized_x + normalized_y)/2))\n",
    "    }\n",
    ")\n",
    "\n",
    "with plt.rc_context({\"figure.figsize\": (3, 3)}):\n",
    "    plt.scatter(_df['x'], _df['y'], c=_df['color'], s = 0.5)\n",
    "    plt.show()"
   ]
  },
  {
   "cell_type": "code",
   "execution_count": null,
   "id": "8d6ca0ba-fa67-4133-9264-1f2120797815",
   "metadata": {},
   "outputs": [],
   "source": [
    "with plt.rc_context({\"figure.figsize\": (3, 3)}):\n",
    "    sc.pl.embedding(st, basis='spatial', color=['leiden_scvi', 'leiden_spvae','cell1', 'cell2'], ncols=2, wspace=0.5)"
   ]
  },
  {
   "cell_type": "markdown",
   "id": "0db5cc20-fc8f-43b9-bd43-3adf2831d590",
   "metadata": {},
   "source": [
    "#### Spatial Loss diagnosis"
   ]
  },
  {
   "cell_type": "code",
   "execution_count": null,
   "id": "cd9437c3-ca9e-420e-a620-debc85158ec9",
   "metadata": {},
   "outputs": [],
   "source": [
    "# RNA-only fine-tuning\n",
    "df_loss_q = pd.DataFrame(\n",
    "    {k:model_q.history[k].values.squeeze().astype(float)\n",
    "     for k in ['reconstruction_loss_train', 'kl_local_train', 'kl_global_train']}\n",
    ")\n",
    "df_loss_q.reset_index(inplace=True)\n",
    "\n",
    "# spatial fine-tuning\n",
    "df_loss_sp = pd.DataFrame(\n",
    "    {k:model_sp.history[k].values.squeeze().astype(float)\n",
    "     for k in ['reconstruction_loss_train', 'kl_local_train', 'kl_global_train']}\n",
    ")\n",
    "df_loss_sp.reset_index(inplace=True)\n",
    "df_loss_sp['index'] += 100\n",
    "\n",
    "# overall loss\n",
    "df_loss = pd.concat([df_loss_q, df_loss_sp])\n",
    "df_loss['phase'] = pd.Categorical(\n",
    "    np.repeat(['RNA-only fine-tuning', 'Spatial fine-tuning'], 100),\n",
    "    categories=['RNA-only fine-tuning', 'Spatial fine-tuning'],\n",
    "    ordered=True\n",
    ")"
   ]
  },
  {
   "cell_type": "code",
   "execution_count": null,
   "id": "b964b5bc-9b23-4557-ac01-acc58891fca3",
   "metadata": {},
   "outputs": [],
   "source": [
    "(\n",
    "    ggplot(df_loss, aes(x = 'index', y = 'reconstruction_loss_train', color = 'phase')) +\n",
    "        geom_line() + \n",
    "        labs(x = 'Epoch', y = 'Reconstruction loss', color = 'Phase') + \n",
    "        scale_color_manual(values={\n",
    "            'RNA-only fine-tuning': 'black', 'Spatial fine-tuning': 'red'\n",
    "        }) + \n",
    "        theme_classic() + \n",
    "        theme(figure_size=(4,2))\n",
    ")"
   ]
  },
  {
   "cell_type": "code",
   "execution_count": null,
   "id": "622efe8d-67a6-4a9f-86b6-411cc1977e34",
   "metadata": {},
   "outputs": [],
   "source": [
    "(\n",
    "    ggplot(df_loss, aes(x = 'index', y = 'kl_global_train', color = 'phase')) +\n",
    "        geom_line() + \n",
    "        labs(x = 'Epoch', y = 'Spatial loss', color = 'Phase') + \n",
    "        scale_color_manual(values={\n",
    "            'RNA-only fine-tuning': 'black', 'Spatial fine-tuning': 'red'\n",
    "        }) + \n",
    "        theme_classic() + \n",
    "        theme(figure_size=(4,2))\n",
    ")"
   ]
  },
  {
   "cell_type": "code",
   "execution_count": null,
   "id": "f8894778-78e5-4136-9f0f-9793aa2eef76",
   "metadata": {},
   "outputs": [],
   "source": [
    "(\n",
    "    ggplot(df_loss, aes(x = 'index', y = 'kl_local_train', color = 'phase')) +\n",
    "        geom_line() + \n",
    "        labs(x = 'Epoch', y = 'KL local loss', color = 'Phase') + \n",
    "        scale_color_manual(values={\n",
    "            'RNA-only fine-tuning': 'black', 'Spatial fine-tuning': 'red'\n",
    "        }) + \n",
    "        theme_classic() + \n",
    "        theme(figure_size=(4,2))\n",
    ")"
   ]
  },
  {
   "cell_type": "code",
   "execution_count": null,
   "id": "466baf3b-dfcd-4980-b40b-d0731d9a0424",
   "metadata": {},
   "outputs": [],
   "source": [
    "sp_loss(torch.tensor(st.obsm['X_scvi'].T)), sp_loss(torch.tensor(st.obsm['X_spvae'].T))"
   ]
  },
  {
   "cell_type": "markdown",
   "id": "d7676c06-2649-4c2e-8ee7-ba682095ebd2",
   "metadata": {},
   "source": [
    "### Joint embeddings"
   ]
  },
  {
   "cell_type": "markdown",
   "id": "6d0daaaf-5d13-4bdf-9126-159920197652",
   "metadata": {},
   "source": [
    "#### RNA-only model"
   ]
  },
  {
   "cell_type": "code",
   "execution_count": null,
   "id": "a41781f9-c732-4802-8f97-193db2baa75e",
   "metadata": {},
   "outputs": [],
   "source": [
    "adata_full = st_rna.concatenate(scref, batch_key='tech', batch_categories=['ST', 'SC'])"
   ]
  },
  {
   "cell_type": "code",
   "execution_count": null,
   "id": "e2474fc3-deee-4950-9015-8116d77ef2fd",
   "metadata": {},
   "outputs": [],
   "source": [
    "adata_full.obsm[\"X_scvi\"] = model_q.get_latent_representation(adata_full)"
   ]
  },
  {
   "cell_type": "markdown",
   "id": "4599620f-2b12-4a6e-aca1-feaab4d5d582",
   "metadata": {},
   "source": [
    "#### SpatialVAE model"
   ]
  },
  {
   "cell_type": "code",
   "execution_count": null,
   "id": "35af529d-da09-4543-aa0e-68151ffc6937",
   "metadata": {},
   "outputs": [],
   "source": [
    "adata_full_sp = st_sp.concatenate(scref, batch_key='tech', batch_categories=['ST', 'SC'])"
   ]
  },
  {
   "cell_type": "code",
   "execution_count": null,
   "id": "aa5a9a9b-bf41-47bb-842b-946cbc99829d",
   "metadata": {},
   "outputs": [],
   "source": [
    "adata_full.obsm[\"X_spvae\"] = model_sp.get_latent_representation(adata_full_sp)"
   ]
  },
  {
   "cell_type": "markdown",
   "id": "bcb9868a-4425-451e-bd9c-ba4e93731b3b",
   "metadata": {},
   "source": [
    "#### UMAP"
   ]
  },
  {
   "cell_type": "code",
   "execution_count": null,
   "id": "a0ae1bdf-6d91-49e3-ad91-f6018859a6aa",
   "metadata": {},
   "outputs": [],
   "source": [
    "sc.pp.neighbors(adata_full, use_rep=\"X_scvi\")\n",
    "sc.tl.leiden(adata_full, key_added = 'leiden_scvi')\n",
    "sc.tl.umap(adata_full)\n",
    "adata_full.obsm['X_umap_scvi'] = adata_full.obsm['X_umap'].copy()"
   ]
  },
  {
   "cell_type": "code",
   "execution_count": null,
   "id": "014922d4-cdd4-44f4-94cb-e394a31a5dc3",
   "metadata": {},
   "outputs": [],
   "source": [
    "sc.pp.neighbors(adata_full, use_rep=\"X_spvae\")\n",
    "sc.tl.leiden(adata_full, key_added = 'leiden_spvae')\n",
    "sc.tl.umap(adata_full)\n",
    "adata_full.obsm['X_umap_spvae'] = adata_full.obsm['X_umap'].copy()"
   ]
  },
  {
   "cell_type": "code",
   "execution_count": null,
   "id": "f081323d-d6b0-4dc1-90ce-105d6c2b4b97",
   "metadata": {},
   "outputs": [],
   "source": [
    "with plt.rc_context({\"figure.figsize\": (3, 3)}):\n",
    "    sc.pl.embedding(\n",
    "        adata_full, basis='X_umap_scvi',\n",
    "        color=['cell1', 'compartment', 'donor_assay', 'tech'], wspace=0.5\n",
    "    )\n",
    "    sc.pl.embedding(\n",
    "        adata_full, basis='X_umap_spvae',\n",
    "        color=['cell1', 'compartment', 'donor_assay', 'tech'], wspace=0.5\n",
    "    )"
   ]
  },
  {
   "cell_type": "code",
   "execution_count": null,
   "id": "7c9fa97d-47bf-4b65-9eff-7964a3bdf853",
   "metadata": {},
   "outputs": [],
   "source": [
    "sc.pp.calculate_qc_metrics(adata_full, inplace = True)"
   ]
  },
  {
   "cell_type": "code",
   "execution_count": null,
   "id": "ff3a2547-9636-4c2e-be2b-34887127a56a",
   "metadata": {},
   "outputs": [],
   "source": [
    "with plt.rc_context({\"figure.figsize\": (6, 3)}):\n",
    "    sc.pl.violin(adata_full, ['n_genes_by_counts', 'total_counts'], groupby='donor_assay')"
   ]
  },
  {
   "cell_type": "markdown",
   "id": "280a8c17-f26b-48fc-9c1a-a66397c7d20b",
   "metadata": {},
   "source": [
    "### Transfer annotation"
   ]
  },
  {
   "cell_type": "code",
   "execution_count": null,
   "id": "efccd530-45f6-4931-92cc-7c3f052f5b34",
   "metadata": {},
   "outputs": [],
   "source": [
    "scref.obs"
   ]
  },
  {
   "cell_type": "code",
   "execution_count": null,
   "id": "f6b04153-e34d-4c13-a91e-958dc88c892d",
   "metadata": {},
   "outputs": [],
   "source": [
    "def weighted_prediction(weights, ref_cats):\n",
    "    \"\"\"Get highest weight category.\"\"\"\n",
    "    N = len(weights)\n",
    "    predictions = np.zeros((N,), dtype=ref_cats.dtype)\n",
    "    uncertainty = np.zeros((N,))\n",
    "    for i in range(N):\n",
    "        obs_weights = weights[i]\n",
    "        obs_cats = ref_cats[i]\n",
    "        best_prob = 0\n",
    "        for c in np.unique(obs_cats):\n",
    "            cand_prob = np.sum(obs_weights[obs_cats == c])\n",
    "            if cand_prob > best_prob:\n",
    "                best_prob = cand_prob\n",
    "                predictions[i] = c\n",
    "                uncertainty[i] = max(1 - best_prob, 0)\n",
    "\n",
    "    return predictions, uncertainty"
   ]
  },
  {
   "cell_type": "markdown",
   "id": "a5cb6deb-7dd8-4310-b384-eaa7f23f7d98",
   "metadata": {},
   "source": [
    "#### RNA-only model"
   ]
  },
  {
   "cell_type": "code",
   "execution_count": null,
   "id": "220451f1-1d12-40d6-8cb9-11ac19735511",
   "metadata": {},
   "outputs": [],
   "source": [
    "X_train = adata_full[adata_full.obs['tech'] == 'SC'].obsm['X_scvi']\n",
    "ref_nn_index = pynndescent.NNDescent(X_train)\n",
    "ref_nn_index.prepare()\n",
    "\n",
    "query_data = adata_full[adata_full.obs['tech'] == 'ST'].obsm['X_scvi']\n",
    "ref_neighbors, ref_distances = ref_nn_index.query(query_data)"
   ]
  },
  {
   "cell_type": "code",
   "execution_count": null,
   "id": "d029356e-27c2-4fa0-8fb8-9f9e479586d4",
   "metadata": {},
   "outputs": [],
   "source": [
    "# convert distances to affinities\n",
    "stds = np.std(ref_distances, axis=1)\n",
    "stds = (2.0 / stds) ** 2\n",
    "stds = stds.reshape(-1, 1)\n",
    "ref_distances_tilda = np.exp(-np.true_divide(ref_distances, stds))\n",
    "weights = ref_distances_tilda / np.sum(ref_distances_tilda, axis=1, keepdims=True)\n",
    "\n",
    "# for each annotation level, get prediction and uncertainty\n",
    "label_keys = ['free_annotation', 'compartment', 'cell_type']\n",
    "for l in label_keys:\n",
    "    ref_cats = scref.obs[l].cat.codes.to_numpy()[ref_neighbors]\n",
    "    p, u = weighted_prediction(weights, ref_cats)\n",
    "    p = np.asarray(scref.obs[l].cat.categories)[p]\n",
    "    st.obs[l + \"_pred_scvi\"], st.obs[l + \"_uncertainty_scvi\"] = p, u"
   ]
  },
  {
   "cell_type": "code",
   "execution_count": null,
   "id": "4024c303-9693-42ad-9139-811f17e21fca",
   "metadata": {},
   "outputs": [],
   "source": [
    "uncertainty_threshold = 0.2\n",
    "for l in label_keys:\n",
    "    mask = st.obs[l + \"_uncertainty_scvi\"] > 0.2\n",
    "    print(f\"{l}: {sum(mask)/len(mask)} unknown\")\n",
    "    st.obs[l + \"_pred_scvi\"].loc[mask] = \"Unknown\""
   ]
  },
  {
   "cell_type": "code",
   "execution_count": null,
   "id": "0e06196c-32e5-4144-aff6-ff421c72145c",
   "metadata": {},
   "outputs": [],
   "source": [
    "with plt.rc_context({\"figure.figsize\": (3, 3)}):\n",
    "    sc.pl.embedding(\n",
    "        st, basis='spatial', \n",
    "        color=['compartment_pred_scvi', 'cell_type_pred_scvi', 'cell1', 'cell2'], \n",
    "        ncols=2, wspace=1)"
   ]
  },
  {
   "cell_type": "markdown",
   "id": "55ea49ab-23a7-4768-850a-9c2caa9f1376",
   "metadata": {},
   "source": [
    "#### SpatialVAE"
   ]
  },
  {
   "cell_type": "code",
   "execution_count": null,
   "id": "e9213dce-2100-457b-a1c4-2022d360bd69",
   "metadata": {},
   "outputs": [],
   "source": [
    "X_train = adata_full[adata_full.obs['tech'] == 'SC'].obsm['X_spvae']\n",
    "ref_nn_index = pynndescent.NNDescent(X_train)\n",
    "ref_nn_index.prepare()\n",
    "\n",
    "query_data = adata_full[adata_full.obs['tech'] == 'ST'].obsm['X_spvae']\n",
    "ref_neighbors, ref_distances = ref_nn_index.query(query_data)"
   ]
  },
  {
   "cell_type": "code",
   "execution_count": null,
   "id": "a5f6623f-6c64-46ea-9fdc-106d40e6bc40",
   "metadata": {},
   "outputs": [],
   "source": [
    "# convert distances to affinities\n",
    "stds = np.std(ref_distances, axis=1)\n",
    "stds = (2.0 / stds) ** 2\n",
    "stds = stds.reshape(-1, 1)\n",
    "ref_distances_tilda = np.exp(-np.true_divide(ref_distances, stds))\n",
    "weights = ref_distances_tilda / np.sum(ref_distances_tilda, axis=1, keepdims=True)\n",
    "\n",
    "\n",
    "# for each annotation level, get prediction and uncertainty\n",
    "label_keys = ['free_annotation', 'compartment', 'cell_type']\n",
    "for l in label_keys:\n",
    "    ref_cats = scref.obs[l].cat.codes.to_numpy()[ref_neighbors]\n",
    "    p, u = weighted_prediction(weights, ref_cats)\n",
    "    p = np.asarray(scref.obs[l].cat.categories)[p]\n",
    "    st.obs[l + \"_pred_spvae\"], st.obs[l + \"_uncertainty_spvae\"] = p, u"
   ]
  },
  {
   "cell_type": "code",
   "execution_count": null,
   "id": "a8456c88-99f0-4d08-87c2-2fbde0d2397a",
   "metadata": {},
   "outputs": [],
   "source": [
    "uncertainty_threshold = 0.2\n",
    "for l in label_keys:\n",
    "    mask = st.obs[l + \"_uncertainty_spvae\"] > 0.2\n",
    "    print(f\"{l}: {sum(mask)/len(mask)} unknown\")\n",
    "    st.obs[l + \"_pred_spvae\"].loc[mask] = \"Unknown\""
   ]
  },
  {
   "cell_type": "code",
   "execution_count": null,
   "id": "112bd864-0539-4297-b5f6-f671589635e8",
   "metadata": {},
   "outputs": [],
   "source": [
    "with plt.rc_context({\"figure.figsize\": (3, 3)}):\n",
    "    sc.pl.embedding(\n",
    "        st, basis='spatial', \n",
    "        color=['compartment_pred_spvae', 'cell_type_pred_spvae',\n",
    "               'compartment_pred_scvi', 'cell_type_pred_scvi'], \n",
    "        ncols=2, wspace=1)"
   ]
  },
  {
   "cell_type": "markdown",
   "id": "67ee5ecd-11ca-4d8f-8f9c-d0ec713374a8",
   "metadata": {},
   "source": [
    "## Figures"
   ]
  },
  {
   "cell_type": "code",
   "execution_count": null,
   "id": "e0bdd7e0-5878-40d0-8120-0f320ea5a4b0",
   "metadata": {},
   "outputs": [],
   "source": [
    "palette_comp = {\n",
    "    'Endothelial': \"#00A087\",\n",
    "    'Epithelial': \"#E64B35\",\n",
    "    'Germ line': \"#F39B7F\",\n",
    "    'Immune': \"#3C5488\",\n",
    "    'Stromal': \"#4DBBD5\",\n",
    "    #'Unknown': \"lightgray\"\n",
    "    'Unknown': \"#7E6148\"\n",
    "}\n",
    "palette_assay = {\n",
    "    \"TSP8_10x 3' v3\": '#2E7D32',\n",
    "    \"TSP14_10x 3' v3\": '#E53935',\n",
    "    \"TSP8_Smart-seq2\": '#FBC02D',\n",
    "    \"HP1_Slide-seqV2\": '#1E88E5'\n",
    "    \n",
    "}\n",
    "\n",
    "Light24 = [\n",
    "    \"#FD3216\",\n",
    "    \"#00FE35\",\n",
    "    \"#6A76FC\",\n",
    "    \"#FED4C4\",\n",
    "    \"#FE00CE\",\n",
    "    \"#0DF9FF\",\n",
    "    \"#F6F926\",\n",
    "    \"#FF9616\",\n",
    "    \"#479B55\",\n",
    "    \"#EEA6FB\",\n",
    "    \"#DC587D\",\n",
    "    \"#D626FF\",\n",
    "    \"#6E899C\",\n",
    "    \"#00B5F7\",\n",
    "    \"#B68E00\",\n",
    "    \"#C9FBE5\",\n",
    "    \"#FF0092\",\n",
    "    \"#22FFA7\",\n",
    "    \"#E3EE9E\",\n",
    "    \"#86CE00\",\n",
    "    \"#BC7196\",\n",
    "    \"#7E7DCD\",\n",
    "    \"#FC6955\",\n",
    "    \"#E48F72\",\n",
    "]\n",
    "\n",
    "cell_types = [\n",
    "    \"Smooth muscle cell\",\n",
    "    \"Fibroblast\",\n",
    "    \"Epithelium luminal cell\",\n",
    "    \"Epithelial cell\",\n",
    "    \"Epithelium basal cell\",\n",
    "    \"Endothelial cell\",\n",
    "    \"Club cell\",\n",
    "    \"Macrophage\",\n",
    "    \"Myeloid cell\",\n",
    "    \"Monocyte\",\n",
    "    \"CD8+, alpha-beta T cell\",\n",
    "    \"Erythroid progenitor cell\",\n",
    "    \"Mature NK T cell\",\n",
    "    \"T cell\",\n",
    "    \"Unknown\",\n",
    "]\n",
    "palette_ct = {ct:Light24[i] for i, ct in enumerate(cell_types)}\n",
    "palette_ct.update({'Unknown': 'lightgray'})\n",
    "\n",
    "fig_res_dir = \"/Users/jysumac/Projects/Smoother_paper/results/figures/prostate_ref_mapping/\""
   ]
  },
  {
   "cell_type": "markdown",
   "id": "8a77e7d9-e2ee-4c80-b0de-e01cc504b069",
   "metadata": {},
   "source": [
    "#### Single-cell reference"
   ]
  },
  {
   "cell_type": "code",
   "execution_count": null,
   "id": "6024759c-4d5c-4e5a-a5ac-e52243ae17b8",
   "metadata": {},
   "outputs": [],
   "source": [
    "df_scref = scref.obs.copy()\n",
    "df_scref['x'] = scref.obsm['X_umap_scvi'][:,0]\n",
    "df_scref['y'] = scref.obsm['X_umap_scvi'][:,1]\n",
    "df_scref['compartment'] = df_scref['compartment'].str.capitalize()\n",
    "df_scref['cell_type'] = df_scref['cell_type'].str.capitalize()\n",
    "df_scref['cell_type'] = df_scref['cell_type'].str.replace(\n",
    "    'Mature nk t cell', 'Mature NK T cell')\n",
    "df_scref['cell_type'] = df_scref['cell_type'].str.replace(\n",
    "    'Cd8-positive, alpha-beta t cell', 'CD8+, alpha-beta T cell ')\n",
    "df_scref['cell_type'] = df_scref['cell_type'].str.replace(\n",
    "    'Luminal cell of prostate epithelium', 'Epithelium luminal cell')\n",
    "df_scref['cell_type'] = df_scref['cell_type'].str.replace(\n",
    "    'Basal cell of prostate epithelium', 'Epithelium basal cell')"
   ]
  },
  {
   "cell_type": "code",
   "execution_count": null,
   "id": "8a8431fe-7565-41ec-9126-334ea466e0c1",
   "metadata": {},
   "outputs": [],
   "source": [
    "p = (\n",
    "    ggplot(df_scref, aes(x='x',y='y',color='compartment')) + \n",
    "        geom_point(size = 0.01, alpha = 1) +\n",
    "        labs(color = 'Compartment') + \n",
    "        theme_void() + \n",
    "        scale_color_manual(values = palette_comp) + \n",
    "        guides(color = guide_legend(\n",
    "            override_aes = {'size':5, 'alpha':1}\n",
    "        )) + \n",
    "        theme(\n",
    "            figure_size=(3,2.5),\n",
    "            legend_title=element_text(size = 10),\n",
    "            legend_text=element_text(size = 10)\n",
    "        )\n",
    ")\n",
    "p.save(fig_res_dir + 'fig6b1.pdf')\n",
    "p"
   ]
  },
  {
   "cell_type": "code",
   "execution_count": null,
   "id": "f5227867-7a4c-41e2-8dd2-95a3a42741dd",
   "metadata": {},
   "outputs": [],
   "source": [
    "p = (\n",
    "    ggplot(df_scref, aes(x='x',y='y',color='donor_assay')) + \n",
    "        geom_point(size = 0.01, alpha = 0.5) +\n",
    "        labs(color = 'Platform') + \n",
    "        theme_void() + \n",
    "        scale_color_manual(values=palette_assay) + \n",
    "        guides(color = guide_legend(\n",
    "            ncol=1,\n",
    "            override_aes = {'size':5, 'alpha':1}\n",
    "        )) + \n",
    "        theme(\n",
    "            figure_size=(3.5,2.5),\n",
    "            legend_title=element_text(size = 10),\n",
    "            legend_text=element_text(size = 10)\n",
    "        )\n",
    ")\n",
    "p.save(fig_res_dir + 'fig6b2.pdf')\n",
    "p"
   ]
  },
  {
   "cell_type": "code",
   "execution_count": null,
   "id": "c90bb1d0-0c99-4cec-bfd6-46d9e1575de1",
   "metadata": {},
   "outputs": [],
   "source": [
    "(\n",
    "    ggplot(df_scref, aes(x='x',y='y',color='cell_type')) + \n",
    "        geom_point(size = 0.01, alpha = 0.5) +\n",
    "        labs(color = '') + \n",
    "        theme_void() + \n",
    "        guides(color = guide_legend(\n",
    "            ncol=2,\n",
    "            override_aes = {'size':5, 'alpha':1}\n",
    "        )) + \n",
    "        theme(figure_size=(5.5,3))\n",
    ")"
   ]
  },
  {
   "cell_type": "markdown",
   "id": "d4c7f97d-1b0d-41cb-b0a9-a8d8918f3b07",
   "metadata": {},
   "source": [
    "### Joint embeddings"
   ]
  },
  {
   "cell_type": "code",
   "execution_count": null,
   "id": "7b9eb961-adf1-4d58-8aed-1ca4af5f8c26",
   "metadata": {},
   "outputs": [],
   "source": [
    "df_joint = adata_full.obs.copy()\n",
    "df_joint['x1'] = adata_full.obsm['X_umap_scvi'][:,0]\n",
    "df_joint['y1'] = adata_full.obsm['X_umap_scvi'][:,1]\n",
    "df_joint['x2'] = adata_full.obsm['X_umap_spvae'][:,0]\n",
    "df_joint['y2'] = adata_full.obsm['X_umap_spvae'][:,1]\n",
    "df_joint['donor_assay'] = df_joint['donor_assay'].str.replace('HP1_ST', 'HP1_Slide-seqV2')\n",
    "df_joint['donor_assay'] = pd.Categorical(\n",
    "    df_joint['donor_assay'], \n",
    "    categories=[\"TSP8_10x 3' v3\", \"TSP8_Smart-seq2\", \"TSP14_10x 3' v3\", \"HP1_Slide-seqV2\"],\n",
    "    ordered=True\n",
    ")\n",
    "df_joint['compartment'] = df_joint['compartment'].str.capitalize()"
   ]
  },
  {
   "cell_type": "code",
   "execution_count": null,
   "id": "5c8fdd02-f55a-402b-98c8-8bb62d54f988",
   "metadata": {},
   "outputs": [],
   "source": [
    "p = (\n",
    "    ggplot(df_joint, aes(x='donor_assay', y='n_genes_by_counts', fill = 'donor_assay')) + \n",
    "        geom_violin() +\n",
    "        geom_boxplot(width = 0.1, outlier_shape='none') + \n",
    "        labs(x='', y='Number of genes', fill = 'Assay')+\n",
    "        theme_classic() + \n",
    "        scale_y_log10() +\n",
    "        scale_fill_manual(values = palette_assay) + \n",
    "        theme(\n",
    "            figure_size=(3.5,2.5),\n",
    "            axis_text_x=element_blank(),\n",
    "            axis_ticks_major_x=element_blank()\n",
    "        )\n",
    ")\n",
    "p.save(fig_res_dir + 'fig6c1.pdf')\n",
    "p"
   ]
  },
  {
   "cell_type": "code",
   "execution_count": null,
   "id": "d52ba3de-e02e-49de-94bc-32bfd407b537",
   "metadata": {},
   "outputs": [],
   "source": [
    "p = (\n",
    "    ggplot(df_joint, aes(x='donor_assay', y='total_counts', fill = 'donor_assay')) + \n",
    "        geom_violin() +\n",
    "        geom_boxplot(width = 0.1, outlier_shape='none') + \n",
    "        labs(x='', y='Total counts', fill = 'Assay')+\n",
    "        scale_y_log10() + \n",
    "        scale_fill_manual(values = palette_assay) + \n",
    "        theme_classic() + \n",
    "        theme(\n",
    "            figure_size=(3.5,2.5),\n",
    "            axis_text_x=element_blank(),\n",
    "            axis_ticks_major_x=element_blank()\n",
    "        )\n",
    ")\n",
    "p.save(fig_res_dir + 'fig6c2.pdf')\n",
    "p"
   ]
  },
  {
   "cell_type": "code",
   "execution_count": null,
   "id": "e9b0f7ad-3773-4b94-82fc-1edd38d7146d",
   "metadata": {},
   "outputs": [],
   "source": [
    "p = (\n",
    "    ggplot(df_joint, aes(x='x1',y='y1',color='compartment')) + \n",
    "        geom_point(size = 0.01, alpha = 0.5) +\n",
    "        labs(color = 'Compartment') + \n",
    "        theme_void() + \n",
    "        scale_color_manual(values=palette_comp, na_value='lightgray') + \n",
    "        guides(color = guide_legend(\n",
    "            ncol=1,\n",
    "            override_aes = {'size':5, 'alpha':1}\n",
    "        )) + \n",
    "        theme(figure_size=(3.5,3))\n",
    ")\n",
    "p.save(fig_res_dir + 'fig6d1.pdf')\n",
    "p"
   ]
  },
  {
   "cell_type": "code",
   "execution_count": null,
   "id": "2ee7b02b-0ee4-41e0-8026-69c10a71c0c4",
   "metadata": {},
   "outputs": [],
   "source": [
    "p = (\n",
    "    ggplot(df_joint, aes(x='x1',y='y1',color='donor_assay')) + \n",
    "        geom_point(size = 0.01, alpha = 0.5) +\n",
    "        labs(color = 'Assay') + \n",
    "        theme_void() + \n",
    "        scale_color_manual(values = palette_assay) + \n",
    "        guides(color = guide_legend(\n",
    "            ncol=1,\n",
    "            override_aes = {'size':5, 'alpha':1}\n",
    "        )) + \n",
    "        theme(figure_size=(4,3))\n",
    ")\n",
    "p.save(fig_res_dir + 'fig6d2.pdf')\n",
    "p"
   ]
  },
  {
   "cell_type": "code",
   "execution_count": null,
   "id": "c3f01470-d139-44f5-ad7a-ebdf02922165",
   "metadata": {},
   "outputs": [],
   "source": [
    "p = (\n",
    "    ggplot(df_joint, aes(x='x2',y='y2',color='compartment')) + \n",
    "        geom_point(size = 0.01, alpha = 1) +\n",
    "        labs(color = 'Compartment') + \n",
    "        theme_void() + \n",
    "        scale_color_manual(values=palette_comp, na_value='lightgray') + \n",
    "        guides(color = guide_legend(\n",
    "            ncol=1,\n",
    "            override_aes = {'size':5, 'alpha':1}\n",
    "        )) + \n",
    "        theme(figure_size=(3.5,3))\n",
    ")\n",
    "p.save(fig_res_dir + 'fig6f1.pdf')\n",
    "p"
   ]
  },
  {
   "cell_type": "code",
   "execution_count": null,
   "id": "bd6aad8e-dccf-44f5-806d-dbee93e09eb7",
   "metadata": {},
   "outputs": [],
   "source": [
    "p = (\n",
    "    ggplot(df_joint, aes(x='x2',y='y2',color='donor_assay')) + \n",
    "        geom_point(size = 0.01, alpha = 0.5) +\n",
    "        labs(color = 'Assay') + \n",
    "        theme_void() + \n",
    "        scale_color_manual(values = palette_assay) + \n",
    "        guides(color = guide_legend(\n",
    "            ncol=1,\n",
    "            override_aes = {'size':5, 'alpha':1}\n",
    "        )) + \n",
    "        theme(figure_size=(4,3))\n",
    ")\n",
    "p.save(fig_res_dir + 'fig6f2.pdf')\n",
    "p"
   ]
  },
  {
   "cell_type": "markdown",
   "id": "3a98871d-3b51-406c-90f9-835e825c26d4",
   "metadata": {},
   "source": [
    "### ST prediction"
   ]
  },
  {
   "cell_type": "code",
   "execution_count": null,
   "id": "217a95fa-f61f-4bea-954f-07ede3f92897",
   "metadata": {},
   "outputs": [],
   "source": [
    "df_st = st.obs.copy()\n",
    "df_st['compartment_pred_scvi'] = df_st['compartment_pred_scvi'].str.capitalize()\n",
    "df_st['compartment_pred_spvae'] = df_st['compartment_pred_spvae'].str.capitalize()\n",
    "\n",
    "for l in ['cell_type_pred_scvi', 'cell_type_pred_spvae']:\n",
    "    df_st[l] = df_st[l].str.capitalize()\n",
    "    df_st[l] = df_st[l].str.replace(\n",
    "        'Mature nk t cell', 'Mature NK T cell')\n",
    "    df_st[l] = df_st[l].str.replace(\n",
    "        'Cd8-positive, alpha-beta t cell', 'CD8+, alpha-beta T cell ')\n",
    "    df_st[l] = df_st[l].str.replace(\n",
    "        'Luminal cell of prostate epithelium', 'Epithelium luminal cell')\n",
    "    df_st[l] = df_st[l].str.replace(\n",
    "        'Basal cell of prostate epithelium', 'Epithelium basal cell')\n"
   ]
  },
  {
   "cell_type": "code",
   "execution_count": null,
   "id": "4f4cbc75-ab54-48f4-ac90-c0e87bc3fc44",
   "metadata": {},
   "outputs": [],
   "source": [
    "df_st['cell_type_pred_scvi'].value_counts()"
   ]
  },
  {
   "cell_type": "code",
   "execution_count": null,
   "id": "72d860a6-8aa1-4d46-baf0-3f0ee6b55e3d",
   "metadata": {},
   "outputs": [],
   "source": [
    "df_st['cell_type_pred_spvae'].value_counts()"
   ]
  },
  {
   "cell_type": "code",
   "execution_count": null,
   "id": "0631e29a-0a12-4bdd-ad5c-cef0d2bc26e4",
   "metadata": {},
   "outputs": [],
   "source": [
    "p = (\n",
    "    ggplot(df_st, aes(x='xcoord',y='ycoord',color='compartment_pred_scvi')) + \n",
    "        geom_point(size = 0.01, alpha = 0.5) +\n",
    "        labs(color = 'Predicted compartment') + \n",
    "        theme_void() + \n",
    "        scale_color_manual(palette_comp) + \n",
    "        guides(color = guide_legend(\n",
    "            override_aes = {'size':6, 'alpha':1}\n",
    "        )) + \n",
    "        theme(figure_size=(3.5,4), \n",
    "              legend_position='bottom')\n",
    ")\n",
    "p.save(fig_res_dir + 'fig6e1.pdf')\n",
    "p"
   ]
  },
  {
   "cell_type": "code",
   "execution_count": null,
   "id": "a5ddeaa5-9951-4f5d-a327-2c7877878667",
   "metadata": {},
   "outputs": [],
   "source": [
    "p = (\n",
    "    ggplot(df_st, aes(x='xcoord',y='ycoord',color='cell_type_pred_scvi')) + \n",
    "        geom_point(size = 0.01, alpha = 0.5) +\n",
    "        labs(color = '') + \n",
    "        theme_void() + \n",
    "        scale_color_manual(values=palette_ct) + \n",
    "        guides(color = guide_legend(\n",
    "            ncol=2,\n",
    "            override_aes = {'size':5, 'alpha':1}\n",
    "        )) + \n",
    "        theme(figure_size=(7,3.5))\n",
    ")\n",
    "p.save(fig_res_dir + 'fig6e2.pdf')\n",
    "p"
   ]
  },
  {
   "cell_type": "code",
   "execution_count": null,
   "id": "3cc106fa-470c-4fd1-b93a-c69d6088b544",
   "metadata": {},
   "outputs": [],
   "source": [
    "p = (\n",
    "    ggplot(df_st, aes(x='xcoord',y='ycoord',color='compartment_pred_spvae')) + \n",
    "        geom_point(size = 0.01, alpha = 0.5) +\n",
    "        labs(color = 'Predicted compartment') + \n",
    "        theme_void() + \n",
    "        scale_color_manual(palette_comp) + \n",
    "        guides(color = guide_legend(\n",
    "            override_aes = {'size':6, 'alpha':1}\n",
    "        )) + \n",
    "        theme(figure_size=(3.5,4), \n",
    "              legend_position='bottom')\n",
    ")\n",
    "p.save(fig_res_dir + 'fig6g1.pdf')\n",
    "p"
   ]
  },
  {
   "cell_type": "code",
   "execution_count": null,
   "id": "c58657e8-5742-4f40-acfb-11bd3c0132ab",
   "metadata": {},
   "outputs": [],
   "source": [
    "p = (\n",
    "    ggplot(df_st, aes(x='xcoord',y='ycoord',color='cell_type_pred_spvae')) + \n",
    "        geom_point(size = 0.01, alpha = 0.5) +\n",
    "        labs(color = '') + \n",
    "        theme_void() + \n",
    "        scale_color_manual(values=palette_ct) + \n",
    "        guides(color = guide_legend(\n",
    "            ncol=2,\n",
    "            override_aes = {'size':5, 'alpha':1}\n",
    "        )) + \n",
    "        theme(figure_size=(7,3.5))\n",
    ")\n",
    "p.save(fig_res_dir + 'fig6g2.pdf')\n",
    "p"
   ]
  },
  {
   "cell_type": "markdown",
   "id": "383b894b-ce79-4ebc-af9c-51fb11603e33",
   "metadata": {},
   "source": [
    "## Check marker gene expressions"
   ]
  },
  {
   "cell_type": "markdown",
   "id": "d1d69cd8-172c-49d5-9e4e-8f346d7a9c72",
   "metadata": {},
   "source": [
    "### Smooth muscle vs fibroblast"
   ]
  },
  {
   "cell_type": "markdown",
   "id": "f6e56e83-44b9-4bbb-97a8-629b767c07cd",
   "metadata": {},
   "source": [
    "Hirz et al. labeled most of the stromal cells as fibroblast (https://www.nature.com/articles/s41467-023-36325-2#Fig1) whereas our new model predict them to be smooth muscle cells."
   ]
  },
  {
   "cell_type": "code",
   "execution_count": null,
   "id": "2b8a6fac-cbcd-4b55-b56a-22cea8062d4f",
   "metadata": {},
   "outputs": [],
   "source": [
    "(\n",
    "    ggplot(df_st, aes(x='xcoord',y='ycoord',color='cell_type_pred_spvae')) + \n",
    "        geom_point(size = 0.01, alpha = 0.5) +\n",
    "        labs(color = 'SpatialVAE (Tabula Sapiens)') + \n",
    "        theme_void() + \n",
    "        scale_color_manual(values={'Smooth muscle cell': 'red', 'Fibroblast': 'blue'}) + \n",
    "        guides(color = guide_legend(\n",
    "            ncol=2,\n",
    "            override_aes = {'size':5, 'alpha':1}\n",
    "        )) + \n",
    "        theme(figure_size=(6.8,3.5))\n",
    ")"
   ]
  },
  {
   "cell_type": "code",
   "execution_count": null,
   "id": "4d0fae19-ed8b-4ede-971e-aa85569643c5",
   "metadata": {},
   "outputs": [],
   "source": [
    "(\n",
    "    ggplot(df_st, aes(x='xcoord',y='ycoord',color='cell2')) + \n",
    "        geom_point(size = 0.01, alpha = 0.5) +\n",
    "        labs(color = 'Hirz et al. (Paired scRNA-seq, RCTD)') + \n",
    "        theme_void() + \n",
    "        scale_color_manual(values={'Pericytes-1': 'red', 'Pericytes-2': 'red', 'Fibroblasts': 'blue'}) + \n",
    "        guides(color = guide_legend(\n",
    "            ncol=2,\n",
    "            override_aes = {'size':5, 'alpha':1}\n",
    "        )) + \n",
    "        theme(figure_size=(6,3.5))\n",
    ")"
   ]
  },
  {
   "cell_type": "markdown",
   "id": "bf72f33c-9f77-4c13-9752-d3fbdb0c0975",
   "metadata": {},
   "source": [
    "### Smooth muscle marker genes"
   ]
  },
  {
   "cell_type": "code",
   "execution_count": null,
   "id": "053cf7f8-c1b3-4193-9ff6-d9a10738088c",
   "metadata": {},
   "outputs": [],
   "source": [
    "import warnings\n",
    "\n",
    "musc_genes = ['ACTA2', 'RGS5', 'MT1M', # from Hirz et al.\n",
    "              'MYL9', 'SORBS2', 'MYLK', 'DES', 'ACTG2']\n",
    "mucs_genes = [g for g in musc_genes if g in st.var_names]\n",
    "\n",
    "df_st_exp = df_st[['xcoord', 'ycoord', 'cell2', 'cell_type_pred_spvae']]\n",
    "with warnings.catch_warnings():\n",
    "    warnings.simplefilter(\"ignore\")\n",
    "    for g in musc_genes:\n",
    "        df_st_exp[g] = np.log1p(st[:, g].layers['raw'].toarray())\n",
    "        #df_st_exp[g] = st[:, g].layers['raw'].toarray()\n",
    "\n",
    "df_st_exp = pd.melt(\n",
    "    df_st_exp, \n",
    "    id_vars=['xcoord', 'ycoord', 'cell2', 'cell_type_pred_spvae'], \n",
    "    var_name='Gene', value_name='Expression'\n",
    ")"
   ]
  },
  {
   "cell_type": "code",
   "execution_count": null,
   "id": "24a0b985-32a6-4ba0-bd46-8eea97632adc",
   "metadata": {},
   "outputs": [],
   "source": [
    "df_st_exp_grp = df_st_exp.groupby(['xcoord', 'ycoord']).sum('Expression')\n",
    "df_st_exp_grp = df_st_exp.reset_index()\n",
    "(\n",
    "    ggplot(df_st_exp, aes(x='xcoord',y='ycoord',color='Expression')) + \n",
    "        geom_point(size = 0.1, alpha = 0.8) + \n",
    "        scale_color_gradient(low='white', high='red') + \n",
    "        labs(color = 'Sum log1p counts', title = f'Smooth muscle cell markers') +\n",
    "        theme_void() + \n",
    "        theme(figure_size=(4,3))\n",
    ")"
   ]
  },
  {
   "cell_type": "code",
   "execution_count": null,
   "id": "3178bdf8-1747-4419-9868-8f9704facaca",
   "metadata": {},
   "outputs": [],
   "source": [
    "(\n",
    "    ggplot(df_st_exp, aes(x='xcoord',y='ycoord',color='Expression')) + \n",
    "        facet_wrap('~Gene', ncol = 4) + \n",
    "        geom_point(size = 0.01, alpha = 1) +\n",
    "        labs(color = 'Log1p counts') + \n",
    "        scale_color_gradient(low='white', high='red') + \n",
    "        theme_void() + \n",
    "        theme(figure_size=(8,4),\n",
    "              strip_text = element_text(font = 'Arial', style = \"italic\"))\n",
    ")"
   ]
  },
  {
   "cell_type": "markdown",
   "id": "a11f53f1-ac41-4e49-9d3a-88bc979ebee1",
   "metadata": {},
   "source": [
    "### Fibroblast marker genes"
   ]
  },
  {
   "cell_type": "code",
   "execution_count": null,
   "id": "136074fa-29ab-407f-b21f-7462de018320",
   "metadata": {},
   "outputs": [],
   "source": [
    "fibro_genes = ['DCN', 'LUM', # from Hirz et al.\n",
    "               'COL1A2', 'COL3A1', 'MDK', 'ADAMTS4', 'MEG3','FHL2']\n",
    "\n",
    "df_st_exp = df_st[['xcoord', 'ycoord', 'cell2', 'cell_type_pred_spvae']]\n",
    "with warnings.catch_warnings():\n",
    "    warnings.simplefilter(\"ignore\")\n",
    "    for g in fibro_genes:\n",
    "        if g in st.var_names:\n",
    "            df_st_exp[g] = np.log1p(st[:, g].layers['raw'].toarray())\n",
    "\n",
    "df_st_exp = pd.melt(\n",
    "    df_st_exp, \n",
    "    id_vars=['xcoord', 'ycoord', 'cell2', 'cell_type_pred_spvae'], \n",
    "    var_name='Gene', value_name='Expression'\n",
    ")"
   ]
  },
  {
   "cell_type": "code",
   "execution_count": null,
   "id": "8bb0fcb7-9c8d-4382-8f91-9e35d53d8008",
   "metadata": {},
   "outputs": [],
   "source": [
    "df_st_exp_grp = df_st_exp.groupby(['xcoord', 'ycoord']).sum('Expression')\n",
    "df_st_exp_grp = df_st_exp.reset_index()\n",
    "(\n",
    "    ggplot(df_st_exp, aes(x='xcoord',y='ycoord',color='Expression')) + \n",
    "        geom_point(size = 0.1, alpha = 0.8) + \n",
    "        scale_color_gradient(low='white', high='blue') + \n",
    "        labs(color = 'Sum log1p counts', title = f'Fibroblast markers') +\n",
    "        theme_void() + \n",
    "        theme(figure_size=(4,3))\n",
    ")"
   ]
  },
  {
   "cell_type": "code",
   "execution_count": null,
   "id": "35c13e70-c649-4b57-94b2-7601a82a924c",
   "metadata": {},
   "outputs": [],
   "source": [
    "(\n",
    "    ggplot(df_st_exp, aes(x='xcoord',y='ycoord',color='Expression')) + \n",
    "        facet_wrap('~Gene', ncol = 4) + \n",
    "        geom_point(size = 0.01, alpha = 1) +\n",
    "        labs(color = 'Log1p counts') + \n",
    "        scale_color_gradient(low='white', high='blue') + \n",
    "        theme_void() + \n",
    "        theme(figure_size=(8,4),\n",
    "              strip_text = element_text(font = 'Arial', style = \"italic\"))\n",
    ")"
   ]
  },
  {
   "cell_type": "code",
   "execution_count": null,
   "id": "8e589846-2d50-4511-b1ca-b45044955bfe",
   "metadata": {},
   "outputs": [],
   "source": []
  }
 ],
 "metadata": {
  "kernelspec": {
   "display_name": "Python 3 (ipykernel)",
   "language": "python",
   "name": "python3"
  },
  "language_info": {
   "codemirror_mode": {
    "name": "ipython",
    "version": 3
   },
   "file_extension": ".py",
   "mimetype": "text/x-python",
   "name": "python",
   "nbconvert_exporter": "python",
   "pygments_lexer": "ipython3",
   "version": "3.9.18"
  }
 },
 "nbformat": 4,
 "nbformat_minor": 5
}
